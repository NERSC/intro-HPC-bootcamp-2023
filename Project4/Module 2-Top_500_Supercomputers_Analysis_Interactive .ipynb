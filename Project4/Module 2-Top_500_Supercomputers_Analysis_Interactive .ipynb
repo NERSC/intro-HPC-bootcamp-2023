{
  "cells": [
    {
      "cell_type": "markdown",
      "source": "# Module 2: Top 500 Supercomputers Analysis\nWelcome to our interactive Jupyter notebook where we will explore and analyze data from the TOP500 supercomputers! This notebook includes interactive exercises to help you practice and apply your knowledge. Let's get started!",
      "metadata": {
        "noteable": {
          "cell_type": "markdown"
        }
      },
      "id": "07996799-a176-4c8a-aba9-d5e2a19017bd"
    },
    {
      "id": "a2e629c2-15e6-40cc-80dd-8f0f5dc08a4c",
      "cell_type": "markdown",
      "source": "## Introduction\nIn this module, we will focus on understanding and analyzing the trends in the Top500 and Green500 supercomputing lists. These lists provide valuable insights into the evolution of supercomputing technology and its efficiency.\n\n![Top 500](images/Top500_logo.svg)\n\n### Top500\nThe Top500 project ranks and details the 500 most powerful non-distributed computer systems in the world. The project was started in 1993 and publishes an updated list of the supercomputers twice a year. The first of these updates always coincides with the International Supercomputing Conference in June, and the second is presented at the ACM/IEEE Supercomputing Conference in November. The project aims to provide a reliable basis for tracking and detecting trends in high-performance computing.\n\n### Green500\nThe Green500 list ranks the top 500 supercomputers in the world by energy efficiency. The list is released twice a year, in conjunction with the Top500 list. The aim of the Green500 is to provide a ranking of the most energy-efficient supercomputers in the world and to serve as a complementary view to the Top500 list. The Green500 list makes it clear that performance is not the only consideration when ranking supercomputers, as power efficiency has become an increasingly important metric.\n\n#### Getting Started\nWe will explore and analyze the data from these lists, looking at trends and making comparisons between the supercomputers. This will provide a deeper understanding of the advancements in supercomputing technology and the increasing importance of energy efficiency.",
      "metadata": {
        "noteable": {
          "cell_type": "markdown"
        }
      }
    },
    {
      "cell_type": "markdown",
      "source": [
        "## Loading the Data\n",
        "Let's start by loading the data and getting a glimpse of what it contains. We have information about various supercomputers, such as their ranks, performance metrics, energy efficiency, and more.\n",
        "\n",
        "Make sure to run the code cell below to load the data and set up the necessary libraries."
      ],
      "metadata": {
        "noteable": {
          "cell_type": "markdown"
        }
      },
      "id": "375d55b1-8ffa-48be-9ed6-bb51838b482a"
    },
    {
      "cell_type": "code",
      "source": "import pandas as pd\nimport glob\nimport matplotlib.pyplot as plt\nimport seaborn as sns\nimport numpy as np\n\nscale = 1.75  # pick something less than 2\nsns.set(rc={'figure.figsize': (4 * scale, 3 * scale)})\n\ndata_path = \"data/TOP500_202306.xlsx\"\ndata = pd.read_excel(data_path)\n\n## The following lines do some basic formatting/housekeeping, don't worry about these for now!\ndfraw = data.copy()\ndata[\"Name\"].fillna(data[\"Site ID\"], inplace=True)\ndata[\"Accelerator/Co-Processor Cores\"].fillna(0, inplace=True)\ndata = data.drop(columns=[\"Nmax\", \"Nhalf\", \"HPCG [TFlop/s]\", \"Memory\", \"Previous Rank\", \"Site ID\", \"System ID\"])\n\n# Display the first few rows of the dataframe\ndata.head(5)",
      "outputs": [],
      "execution_count": null,
      "metadata": {
        "noteable": {
          "cell_type": "code",
          "output_collection_id": "3f788222-0143-4341-9d78-8333ed33f1e9"
        },
        "ExecuteTime": {
          "end_time": "2023-08-06T23:54:23.983420+00:00",
          "start_time": "2023-08-06T23:54:22.914613+00:00"
        },
        "scrolled": false,
        "datalink": {
          "ae4df0be-d6b1-47d4-887f-870acde0d8e6": {
            "applied_filters": [],
            "dataframe_info": {
              "default_index_used": true,
              "orig_num_cols": 31,
              "orig_num_rows": 5,
              "orig_size_bytes": 1280,
              "truncated_num_cols": 31,
              "truncated_num_rows": 5,
              "truncated_size_bytes": 1280,
              "truncated_string_columns": []
            },
            "display_id": "ae4df0be-d6b1-47d4-887f-870acde0d8e6",
            "dx_settings": {
              "ALLOW_NOTEABLE_ATTRS": true,
              "COLUMN_SAMPLING_METHOD": "outer",
              "DB_LOCATION": ":memory:",
              "DEV_MODE": false,
              "DISPLAY_MAX_COLUMNS": 100,
              "DISPLAY_MAX_ROWS": 50000,
              "DISPLAY_MODE": "simple",
              "ENABLE_ASSIGNMENT": true,
              "ENABLE_DATALINK": true,
              "FLATTEN_COLUMN_VALUES": true,
              "FLATTEN_INDEX_VALUES": false,
              "GENERATE_DEX_METADATA": false,
              "HTML_TABLE_SCHEMA": false,
              "LOG_LEVEL": 30,
              "MAX_RENDER_SIZE_BYTES": 104857600,
              "MAX_STRING_LENGTH": 250,
              "NUM_PAST_SAMPLES_TRACKED": 3,
              "RANDOM_STATE": 12648430,
              "RESET_INDEX_VALUES": false,
              "ROW_SAMPLING_METHOD": "random",
              "SAMPLING_FACTOR": 0.1,
              "SAMPLING_METHOD": "random",
              "STRINGIFY_COLUMN_VALUES": true,
              "STRINGIFY_INDEX_VALUES": false
            },
            "sample_history": [],
            "sampling_time": "2023-08-06T23:54:23.820712",
            "user_variable_name": null,
            "variable_name": "unk_dataframe_5419f04008e247cab0e85030500031b6"
          }
        }
      },
      "id": "11c82196-40ce-4eca-bbcf-79d884d7d75c"
    },
    {
      "cell_type": "markdown",
      "source": [
        "### Exercise 1: Data Inspection\n",
        "Now that we have loaded the data, can you identify the columns with missing values and the data types of each column? Write the code in the cell below to inspect the data."
      ],
      "metadata": {
        "noteable": {
          "cell_type": "markdown"
        }
      },
      "id": "e7381676-f41a-4ce9-a76c-fd5637a0e2fe"
    },
    {
      "id": "131e5650-8af5-4628-a0e2-0ded40224a1d",
      "cell_type": "code",
      "metadata": {
        "noteable": {
          "cell_type": "python"
        }
      },
      "execution_count": null,
      "source": "",
      "outputs": []
    },
    {
      "cell_type": "markdown",
      "source": [
        "## Preparing the Data for Analysis\n",
        "Before we dive into analysis, let's take a moment to look at the data. We need to handle missing values and convert certain columns to the appropriate data types.\n",
        "\n",
        "### Exercise 2: Data Cleaning\n",
        "1. Identify the columns that need to be converted to numbers and write code to convert them.\n",
        "2. Identify which data needs to be removed from our analysis to handle missing values and write code to handle them.\n",
        "\n",
        "(Note: You can click on the cell below and write your code!)"
      ],
      "metadata": {
        "noteable": {
          "cell_type": "markdown"
        }
      },
      "id": "a2017ce9-15d1-4e73-aedd-464914893745"
    },
    {
      "id": "a915f6bc-719a-4228-b7c9-fc4837c2ada1",
      "cell_type": "code",
      "metadata": {
        "noteable": {
          "cell_type": "python"
        }
      },
      "execution_count": null,
      "source": "",
      "outputs": []
    },
    {
      "cell_type": "markdown",
      "source": [
        "## Exploring the Data\n",
        "Now that our data is cleaned up, let's explore it through visualization. We will start by visualizing the distribution of some important features.\n",
        "\n",
        "### Histograms\n",
        "We will use histograms to see the distributions of \"Power (kW)\" and \"Energy Efficiency [GFlops/Watts]\" columns. Run the code cells below to visualize them."
      ],
      "metadata": {
        "noteable": {
          "cell_type": "markdown"
        }
      },
      "id": "43c7647c-28a4-4c31-9dc3-f6e62bd3e85c"
    },
    {
      "cell_type": "code",
      "source": [
        "distplt_power = sns.displot(data=data, x=\"Power (kW)\", aspect=16/9)\n",
        "distplt_energy = sns.displot(data=data, x=\"Energy Efficiency [GFlops/Watts]\", aspect=16/9)"
      ],
      "outputs": [],
      "execution_count": null,
      "metadata": {
        "noteable": {
          "cell_type": "code",
          "output_collection_id": "bedd3be6-8590-4af2-9876-ca1cd1e55f29"
        },
        "ExecuteTime": {
          "end_time": "2023-08-06T23:55:21.172184+00:00",
          "start_time": "2023-08-06T23:55:19.338327+00:00"
        }
      },
      "id": "e326e346-266e-4c34-be75-525045931559"
    },
    {
      "cell_type": "markdown",
      "source": [
        "### Exercise 3: Histogram Analysis\n",
        "Analyze the histograms above and answer the following questions:\n",
        "1. What can you infer about the distribution of \"Power (kW)\"?\n",
        "2. Are there any outliers in the \"Energy Efficiency [GFlops/Watts]\" distribution?\n",
        "3. How would you describe the overall trends in these features?\n",
        "\n",
        "(Note: You can click on the cell below and write your answers!)"
      ],
      "metadata": {
        "noteable": {
          "cell_type": "markdown"
        }
      },
      "id": "f930a12f-eefc-4ed0-80d7-a48627b9b007"
    },
    {
      "id": "1f4d9264-4725-44b8-8abc-c5b66dcd7e6e",
      "cell_type": "markdown",
      "source": "",
      "metadata": {
        "noteable": {
          "cell_type": "markdown"
        }
      }
    },
    {
      "cell_type": "markdown",
      "source": [
        "## Top 500 Ranking\n",
        "The TOP500 list ranks supercomputers based on their performance, specifically the \"Rmax [TFlop/s]\" value. Let's visualize the relationship between the rankings and the \"Rmax [TFlop/s]\" value."
      ],
      "metadata": {
        "noteable": {
          "cell_type": "markdown"
        }
      },
      "id": "1651741f-bfc3-41cb-a05c-ef5ab2385bcf"
    },
    {
      "cell_type": "code",
      "source": [
        "scatter = sns.scatterplot(data=data, x=\"Rank\", y=\"Rmax [TFlop/s]\", hue=\"Power (kW)\")\n",
        "plt.yscale('log')"
      ],
      "outputs": [],
      "execution_count": null,
      "metadata": {
        "noteable": {
          "cell_type": "code",
          "output_collection_id": "5c1172d0-df0c-42ad-a2b8-c48ee4006993"
        },
        "ExecuteTime": {
          "end_time": "2023-08-06T23:55:26.914634+00:00",
          "start_time": "2023-08-06T23:55:25.893140+00:00"
        }
      },
      "id": "c0f978c3-b610-491e-862c-da8c7e56b8ee"
    },
    {
      "cell_type": "markdown",
      "source": [
        "### Exercise 4: Ranking Analysis\n",
        "1. Can you find out what the rankings would be if they were based on \"Energy Efficiency [GFlops/Watts]\"? Write code to sort the data based on that column and replot the rankings.\n",
        "2. Compare the rankings based on \"Rmax [TFlop/s]\" and \"Energy Efficiency [GFlops/Watts]\". What differences do you observe?\n",
        "\n",
        "(Note: You can click on the cell below and write your code and answers!)"
      ],
      "metadata": {
        "noteable": {
          "cell_type": "markdown"
        }
      },
      "id": "472e8792-955f-4dbd-8656-61b9bfb94885"
    },
    {
      "id": "6a9ea9f3-6947-491f-bb4a-ef596199974b",
      "cell_type": "code",
      "metadata": {
        "noteable": {
          "cell_type": "python"
        }
      },
      "execution_count": null,
      "source": "",
      "outputs": []
    },
    {
      "cell_type": "markdown",
      "source": [
        "## Exploring Regions and Vendors\n",
        "Let's explore the distribution of the supercomputers among different countries and manufacturers. We will focus on the top five countries and their corresponding manufacturers."
      ],
      "metadata": {
        "noteable": {
          "cell_type": "markdown"
        }
      },
      "id": "7e45f3c9-b669-41f6-bb12-6df48782e910"
    },
    {
      "cell_type": "code",
      "source": [
        "countries = data.groupby(\"Country\").count()\n",
        "countries.sort_values('Rank', ascending=False)[\"Rank\"].plot(kind=\"bar\")\n",
        "plt.xlabel(\"Country\")\n",
        "plt.ylabel(\"Number of Supercomputers\")"
      ],
      "outputs": [],
      "execution_count": null,
      "metadata": {
        "noteable": {
          "cell_type": "code"
        }
      },
      "id": "04c7acaa-a9dd-4777-acf5-bc84d110cc87"
    },
    {
      "cell_type": "markdown",
      "source": [
        "### Exercise 5: Region Analysis\n",
        "1. Which countries have the most supercomputers in the top 500 list?\n",
        "2. What insights can you gather about the distribution of supercomputers among different regions?\n",
        "\n",
        "(Note: You can click on the cell below and write your answers!)"
      ],
      "metadata": {
        "noteable": {
          "cell_type": "markdown"
        }
      },
      "id": "78cc0da4-2e79-4566-b88d-edd243f7f777"
    },
    {
      "cell_type": "code",
      "source": [
        "top5countries = list(countries.sort_values('Rank', ascending=False).index[:5])\n",
        "top5countrydata = data.loc[data['Country'].isin(top5countries)]\n",
        "\n",
        "sns.swarmplot(data=top5countrydata, x=\"Energy Efficiency [GFlops/Watts]\", y=\"Country\", order=top5countries, size=4)"
      ],
      "outputs": [],
      "execution_count": null,
      "metadata": {
        "noteable": {
          "cell_type": "code"
        }
      },
      "id": "9064fa03-8168-41fb-a516-cf2db2fafb10"
    },
    {
      "cell_type": "markdown",
      "source": [
        "### Exercise 6: Vendor Analysis\n",
        "1. Which manufacturers dominate the top five countries in terms of supercomputer presence?\n",
        "2. How does the distribution of supercomputers vary among different manufacturers within the top five countries?\n",
        "\n",
        "(Note: You can click on the cell below and write your answers!)"
      ],
      "metadata": {
        "noteable": {
          "cell_type": "markdown"
        }
      },
      "id": "0605e6a5-7d68-484e-a4f3-a5190a3ec85c"
    },
    {
      "id": "d2197248-d101-4e9b-a2d2-6d8a2da6ffc6",
      "cell_type": "code",
      "metadata": {
        "noteable": {
          "cell_type": "python"
        }
      },
      "execution_count": null,
      "source": "",
      "outputs": []
    },
    {
      "cell_type": "markdown",
      "source": [
        "## Exploring Energy Efficiency\n",
        "Energy efficiency is a critical aspect of supercomputers. Let's explore how energy efficiency varies among different supercomputers and identify trends and insights."
      ],
      "metadata": {
        "noteable": {
          "cell_type": "markdown"
        }
      },
      "id": "6d592070-41ef-484f-a9bc-2c1089dc77fa"
    },
    {
      "cell_type": "code",
      "source": [
        "scatter_energy_efficiency = sns.scatterplot(data=data, x=\"Rank\", y=\"Energy Efficiency [GFlops/Watts]\", hue=\"Power (kW)\")\n",
        "plt.yscale('log')"
      ],
      "outputs": [],
      "execution_count": null,
      "metadata": {
        "noteable": {
          "cell_type": "code",
          "output_collection_id": "308a91c7-ded2-4b19-bab6-1ff752dbf6a2"
        },
        "ExecuteTime": {
          "end_time": "2023-08-07T00:02:09.670008+00:00",
          "start_time": "2023-08-07T00:02:08.729151+00:00"
        }
      },
      "id": "af1f8e07-f169-45d2-a95e-d4c366f223fe"
    },
    {
      "cell_type": "markdown",
      "source": [
        "### Exercise 7: Energy Efficiency Analysis\n",
        "1. What trends do you observe in the energy efficiency of the top 500 supercomputers?\n",
        "2. How does energy efficiency correlate with other features such as performance and power consumption?\n",
        "\n",
        "(Note: You can click on the cell below and write your answers!)"
      ],
      "metadata": {
        "noteable": {
          "cell_type": "markdown"
        }
      },
      "id": "f1fcba03-4c36-4d86-ab55-80023985b82f"
    },
    {
      "id": "3b10f558-dfa6-48e8-9603-85161501f233",
      "cell_type": "code",
      "metadata": {
        "noteable": {
          "cell_type": "python"
        }
      },
      "execution_count": null,
      "source": "",
      "outputs": []
    },
    {
      "cell_type": "markdown",
      "source": [
        "### Exercise 8: Energy Efficiency Comparison\n",
        "1. Compare the energy efficiency of supercomputers from different countries and manufacturers.\n",
        "2. Identify the top 10 most energy-efficient supercomputers and analyze their characteristics.\n",
        "\n",
        "(Note: You can click on the cell below and write your answers!)"
      ],
      "metadata": {
        "noteable": {
          "cell_type": "markdown"
        }
      },
      "id": "1a35c4f3-876a-4006-8590-30a9dad01405"
    },
    {
      "id": "0cc5ba56-c372-430b-9083-5354965b1a96",
      "cell_type": "code",
      "metadata": {
        "noteable": {
          "cell_type": "python"
        }
      },
      "execution_count": null,
      "source": "",
      "outputs": []
    },
    {
      "cell_type": "markdown",
      "source": "## Clean Up Time!\nLet's clean up some of our data. Cleaning involves removing commas from numeric values and converting them into the appropriate data type.\n\nFor instance, the value \"500,000,000\" needs to be cleaned to \"500000000\" and then cast into an integer.\n\nPython allows us to do this with a lambda function:\n\n```python\nx = lambda x: float(x.replace(',', ''))\n```\n\nNow, apply the above function to each value in a column using the `map` function:\n\n```python\ndata[\"Column_Name\"] = data[\"Column_Name\"].map(x)\n```\n\n### Exercise 9: Data Cleaning\n1. Use the `.notna()` function to drop rows in the dataframe where the \"Energy Efficiency [GFlops/Watts]\" column has missing values.\n2. Apply the cleaning process to the columns: \"Rmax [TFlop/s]\", \"Rpeak [TFlop/s]\", \"Processor Speed (MHz)\", and \"Power (kW)\".\n\nWrite your code in the cell below.",
      "metadata": {
        "noteable": {
          "cell_type": "markdown"
        }
      },
      "id": "fed716fb-06e4-4466-8a70-9e18c6ecfba9"
    },
    {
      "id": "41af7e35-5488-4e57-b9f0-549826d048e2",
      "cell_type": "code",
      "metadata": {
        "noteable": {
          "cell_type": "python"
        }
      },
      "execution_count": null,
      "source": "",
      "outputs": []
    },
    {
      "cell_type": "markdown",
      "source": [
        "## Exploring the Data\n",
        "Now that our data is cleaned up, let's explore it through visualization. We will start by visualizing the distribution of some important features.\n",
        "\n",
        "### Histograms\n",
        "We will use histograms to see the distributions of \"Power (kW)\" and \"Energy Efficiency [GFlops/Watts]\" columns. Run the code cells below to visualize them."
      ],
      "metadata": {
        "noteable": {
          "cell_type": "markdown"
        }
      },
      "id": "bba606c3-9e48-41a5-aaf0-0d0e41c27716"
    },
    {
      "cell_type": "code",
      "source": [
        "distplt_power = sns.displot(data=data, x=\"Power (kW)\", aspect=16/9)\n",
        "distplt_energy = sns.displot(data=data, x=\"Energy Efficiency [GFlops/Watts]\", aspect=16/9)"
      ],
      "outputs": [],
      "execution_count": null,
      "metadata": {
        "noteable": {
          "cell_type": "code"
        }
      },
      "id": "89f1ed91-2de7-44c4-9055-0fc1c0226bf2"
    },
    {
      "cell_type": "markdown",
      "source": "### Exercise 10: Histogram Analysis\nBased on the histograms above, can you interpret the distributions of the \"Power (kW)\" and \"Energy Efficiency [GFlops/Watts]\" features? Are there any outliers or patterns that you can identify? Write your observations in the cell below.",
      "metadata": {
        "noteable": {
          "cell_type": "markdown"
        }
      },
      "id": "10a1693e-007d-43a7-a89f-551d3e5ed571"
    },
    {
      "id": "75755a54-aa7f-4025-b5a2-1520f84b0bc0",
      "cell_type": "code",
      "metadata": {
        "noteable": {
          "cell_type": "python"
        }
      },
      "execution_count": null,
      "source": "",
      "outputs": []
    },
    {
      "cell_type": "markdown",
      "source": [
        "## Exploring Regions and Vendors\n",
        "Let's explore the distribution of the supercomputers among different countries and manufacturers. We will focus on the top five countries and their corresponding manufacturers."
      ],
      "metadata": {
        "noteable": {
          "cell_type": "markdown"
        }
      },
      "id": "360e9131-08f9-47e5-bd1d-7e0ea173fea2"
    },
    {
      "cell_type": "code",
      "source": [
        "countries = data.groupby(\"Country\").count()\n",
        "countries.sort_values('Rank', ascending=False)[\"Rank\"].plot(kind=\"bar\")\n",
        "plt.xlabel(\"Country\")\n",
        "plt.ylabel(\"Number of Supercomputers\")"
      ],
      "outputs": [],
      "execution_count": null,
      "metadata": {
        "noteable": {
          "cell_type": "code"
        }
      },
      "id": "d236bfd6-b512-4875-b3e6-fc71839f9f90"
    },
    {
      "cell_type": "markdown",
      "source": "### Exercise 11: Country Analysis\nBased on the bar chart above, can you identify the top five countries with the most supercomputers? Write your observations in the cell below.",
      "metadata": {
        "noteable": {
          "cell_type": "markdown"
        }
      },
      "id": "89bcf3ea-5a0e-4d8b-aa01-43b05edad081"
    },
    {
      "id": "0d60a618-6a45-4d28-8acd-b5539290764c",
      "cell_type": "code",
      "metadata": {
        "noteable": {
          "cell_type": "python"
        }
      },
      "execution_count": null,
      "source": "",
      "outputs": []
    },
    {
      "cell_type": "markdown",
      "source": [
        "Now, we will deep dive into the top five countries and visualize the relationship between their rankings and energy efficiency."
      ],
      "metadata": {
        "noteable": {
          "cell_type": "markdown"
        }
      },
      "id": "e0f24f4a-1094-4aaf-b952-c8b76d0a2874"
    },
    {
      "cell_type": "code",
      "source": [
        "top5countries = list(countries.sort_values('Rank', ascending=False).index[:5])\n",
        "top5countrydata = data.loc[data['Country'].isin(top5countries)]\n",
        "\n",
        "sns.swarmplot(data=top5countrydata, x=\"Energy Efficiency [GFlops/Watts]\", y=\"Country\", order=top5countries, size=4)"
      ],
      "outputs": [],
      "execution_count": null,
      "metadata": {
        "noteable": {
          "cell_type": "code"
        }
      },
      "id": "c7eb1325-dbf6-4694-8a04-e441c6cd3530"
    },
    {
      "cell_type": "markdown",
      "source": "### Exercise 12: Vendor Analysis\nBased on the swarm plot above, can you identify any patterns or insights about the energy efficiency of supercomputers from different manufacturers in the top five countries? Write your observations in the cell below.",
      "metadata": {
        "noteable": {
          "cell_type": "markdown"
        }
      },
      "id": "6ab8c46e-a1f8-4816-8699-4ba218022581"
    },
    {
      "cell_type": "code",
      "source": [
        "distplt_power = sns.displot(data=data, x=\"Power (kW)\", aspect=16/9)\n",
        "distplt_energy = sns.displot(data=data, x=\"Energy Efficiency [GFlops/Watts]\", aspect=16/9)"
      ],
      "outputs": [],
      "execution_count": null,
      "metadata": {
        "noteable": {
          "cell_type": "code"
        }
      },
      "id": "617c4b94-0729-442f-9a2f-d5dc99f803f5"
    },
    {
      "cell_type": "markdown",
      "source": "### Exercise 13: Vendor Analysis\nNow, let's explore the vendors in these top five countries.\n\n1. Write code to group the data by \"Manufacturer\" and count the number of supercomputers for each manufacturer in the top five countries.\n2. Identify and visualize the top 5 manufacturers in these countries using a suitable plot.\n3. Share your observations on the distribution of supercomputers among the top manufacturers.",
      "metadata": {
        "noteable": {
          "cell_type": "markdown"
        }
      },
      "id": "f46f7483-25c5-44fa-882e-708b956a061d"
    },
    {
      "id": "65d449a5-5c74-4c35-8625-ccc31451c7fc",
      "cell_type": "code",
      "metadata": {
        "noteable": {
          "cell_type": "python"
        }
      },
      "execution_count": null,
      "source": "",
      "outputs": []
    },
    {
      "cell_type": "markdown",
      "source": "### Exercise 14: Energy Efficiency Analysis\nBased on the swarm plot above, analyze the energy efficiency of the top five countries.\n\n1. Identify the country with the highest and lowest energy efficiency.\n2. Write code to calculate the average energy efficiency for each of the top five countries.\n3. Visualize the average energy efficiency using a suitable plot.\n4. Share your insights on how energy efficiency varies among the top five countries.",
      "metadata": {
        "noteable": {
          "cell_type": "markdown"
        }
      },
      "id": "64c9469b-c728-4cfe-b47b-90be6f9d4594"
    },
    {
      "id": "80ed4d2d-7161-4f54-a34b-2d95c4757a65",
      "cell_type": "code",
      "metadata": {
        "noteable": {
          "cell_type": "python"
        }
      },
      "execution_count": null,
      "source": "",
      "outputs": []
    },
    {
      "cell_type": "markdown",
      "source": "### Exercise 15: Further Exploration\nNow that you have analyzed various aspects of the top 500 supercomputers, it's time to apply your knowledge and creativity.\n\n1. Choose an aspect of the data that interests you (e.g., a specific country, manufacturer, or performance metric).\n2. Formulate a question or hypothesis related to that aspect.\n3. Write code to analyze the data and answer your question or test your hypothesis.\n4. Visualize the results using appropriate plots.\n5. Write a brief conclusion summarizing your findings and insights.\n\nFeel free to use all the tools and techniques you've learned in this notebook. Happy exploring!",
      "metadata": {
        "noteable": {
          "cell_type": "markdown"
        }
      },
      "id": "1073d306-3222-4b4a-a258-7417098d7c1a"
    },
    {
      "id": "1008c29b-97fa-4781-a061-5156783177b9",
      "cell_type": "code",
      "metadata": {
        "noteable": {
          "cell_type": "python"
        }
      },
      "execution_count": null,
      "source": "",
      "outputs": []
    },
    {
      "cell_type": "markdown",
      "source": [
        "## Conclusion\n",
        "We have explored the data of the top 500 supercomputers, cleaned it, and visualized various aspects of the systems. You can continue the analysis further and discover exciting insights about these impressive machines!"
      ],
      "metadata": {
        "noteable": {
          "cell_type": "markdown"
        }
      },
      "id": "3e299c6d-7fbe-4948-ab08-1fce429f1c1a"
    }
  ],
  "metadata": {
    "noteable-chatgpt": {
      "create_notebook": {
        "openai_conversation_id": "0e8ba553-d2e5-5c23-981d-2f0b8ff7fa6e",
        "openai_ephemeral_user_id": "dbfcc28d-4fe1-5308-a9a4-2e3a2f9f7dcc",
        "openai_subdivision1_iso_code": "US-GA"
      }
    },
    "kernel_info": {
      "name": "python3"
    },
    "noteable": {
      "last_transaction_id": "700a48a2-fe35-42b2-9486-bd48e166184d",
      "last_delta_id": "a2bdb326-2be7-4605-9129-efca14914f7c"
    },
    "kernelspec": {
      "display_name": "Python 3.9",
      "language": "python",
      "name": "python3"
    },
    "selected_hardware_size": "small",
    "nteract": {
      "version": "noteable@2.9.0"
    }
  },
  "nbformat": 4,
  "nbformat_minor": 5
}