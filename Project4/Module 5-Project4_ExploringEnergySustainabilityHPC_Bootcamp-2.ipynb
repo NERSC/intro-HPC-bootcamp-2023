{
  "cells": [
    {
      "cell_type": "markdown",
      "source": [
        "# Module 5: Project 4 - Exploring Energy Sustainability in High-Performance Computing (HPC)\n",
        "\n",
        "## Project Overview\n",
        "High-performance computing (HPC) has led to significant scientific advances across various fields. HPC allows researchers to simulate complex phenomena and systems that were previously impossible to study due to their size, complexity, or time scales. For example, HPC has been used in climate modeling to predict future climate patterns and understand the impacts of climate change. HPC has also been instrumental in drug discovery, where researchers can simulate the interactions between molecules and predict their efficacy and potential side effects, thus accelerating the drug development process. HPC has also played a crucial role in astrophysics, enabling the simulation of galaxy formations and the study of the origins of the universe.\n",
        "\n",
        "However, the power consumption and cooling requirements of HPC systems pose significant challenges. HPC systems are typically power-hungry and generate large amounts of heat. The energy consumption and associated costs for operating these systems are substantial. Cooling the systems is also a major concern, as excessive heat can damage the equipment and affect their performance. To address these issues, significant efforts have been made to develop more energy-efficient architectures and cooling technologies for HPC systems.\n",
        "\n",
        "This project aims to delve into the intersection of social justice, energy, and power sustainability by exploring the significance of energy-efficient computing. Participants will work to understand the relationship between the location of Green500 and Top500 HPC systems and climate change indicators and low-income energy affordability data, seeking to answer the question: are HPC systems well placed for energy sustainability?\n",
        "\n",
        "## Goal of Module 5\n",
        "In this module, you will work on a project that explores the relationship between the location of Green500 and Top500 HPC systems, climate change indicators, and low-income energy affordability data. The goal is to answer the question: are HPC systems well placed for energy sustainability? This project will help you understand the significance of energy-efficient computing and its intersection with social justice and power sustainability."
      ],
      "metadata": {
        "noteable": {
          "cell_type": "markdown"
        }
      },
      "id": "bcc0010e-6b95-4db5-8c37-68d6ac190dae"
    },
    {
      "cell_type": "markdown",
      "source": [
        "# HPC Design Challenge Assignment: Designing an Energy-Efficient HPC Center for TechVille HPC\n",
        "\n",
        "---\n",
        "\n",
        "**Objective**:  \n",
        "Your team has been approached by TechVille HPC, a cutting-edge start-up company, with a mission to build HPC centers that not only lead in computational capabilities but also champion the cause of energy justice and sustainability. Your task is to design an HPC center for TechVille HPC that aligns with these values, ensuring the center ranks within the top 20 on the Top500 list and the top 10 on the Green500 list.\n",
        "\n",
        "---\n",
        "\n",
        "**Instructions**:\n",
        "\n",
        "1. **HPC Center Size Determination**:\n",
        "   - Analyze the infrastructure requirements for an HPC center that aligns with energy justice and sustainability while housing a top-ranking machine.\n",
        "   - Estimate the amount of land needed, considering eco-friendly cooling systems, renewable power sources, and space for community engagement initiatives.\n",
        "\n",
        "2. **Machine Size & Specifications**:\n",
        "   - Determine the specifications required for a machine to rank within the top 20 on the Top500 list and top 10 on the Green500 list.\n",
        "   - Consider the computational power, memory, storage, and interconnects required, while emphasizing energy efficiency.\n",
        "\n",
        "3. **Application & Software Analysis**:\n",
        "   - Based on the Department of Energy's mission for advancing science with HPC, identify the types of applications that the HPC center should support.\n",
        "   - Analyze the programming languages and libraries that would be essential for these applications, emphasizing those that support energy-efficient computing.\n",
        "\n",
        "4. **Vendor & Technology Analysis**:\n",
        "   - Research various vendors in the HPC domain and analyze the green technologies they offer.\n",
        "   - Determine which vendors and technologies align best with the goals of energy justice and sustainability for TechVille HPC.\n",
        "\n",
        "5. **Recommendations**:\n",
        "   - Based on your analyses, recommend a comprehensive design for the HPC center, including land size, machine specifications, software ecosystem, and preferred vendors, all while emphasizing energy justice and sustainability.\n",
        "\n",
        "6. **Prepare Your Presentation**:\n",
        "   - Compile your findings and recommendations for your presentation "
      ],
      "metadata": {
        "noteable": {
          "cell_type": "markdown"
        }
      },
      "id": "a393747c-db8c-4f0c-8bdb-ec6227c1af35"
    },
    {
      "cell_type": "markdown",
      "source": [
        "## Section 1: Geographical Distribution and Correlation with Climate Change Indicators\n",
        "\n",
        "In this section, you want to consider appropriat factors related to geographical conditions and locations.  Specifcally, explore the geographical distribution of the Green500 and Top500 HPC systems and their correlation with climate change indicators.\n",
        "\n",
        "![HPC Systems](https://example.com/hpc_systems.jpg)\n",
        "\n",
        "### Research Questions\n",
        "\n",
        "1. What is the geographical distribution of the Green500 and Top500 HPC systems? Are there regions that have a higher concentration of these systems?\n",
        "2. How do the locations of these HPC systems correlate with climate change indicators such as temperature and precipitation patterns?\n",
        "\n",
   
       
        "### Recommended Readings:\n",
        "\n",
        "1. **Ziska, L., & Dukes, J.** (2022). [Invasive Species and Global Climate Change](https://dx.doi.org/10.1079/9781780641645.0000). \n",
        "   - [PDF Link](https://escholarship.org/content/qt9wd817tn/qt9wd817tn.pdf?t=pgc5fi)\n",
        "\n",
        "2. **Garrido, R., Bacigalupo, A., Peña-Gómez, F., Bustamante, R., Cattan, P., Gorla, D., & Botto-Mahan, C.** (2019). [Potential impact of climate change on the geographical distribution of two wild vectors of Chagas disease in Chile: Mepraia spinolai and Mepraia gajardoi](https://dx.doi.org/10.1186/s13071-019-3744-9). *Parasites & Vectors, 12*(1), 1-13.\n",
        "   \n",
        "   - [PDF Link](https://parasitesandvectors.biomedcentral.com/track/pdf/10.1186/s13071-019-3744-9)\n",
        "\n",
        "3. **Liu, Y., & Shi, J.** (2020). [Predicting the Potential Global Geographical Distribution of Two Icerya Species under Climate Change](https://dx.doi.org/10.3390/f11060684). *Forests, 11*(6), 684.\n",
        "   - [PDF Link](https://www.mdpi.com/1999-4907/11/6/684/pdf?version=1592396426)\n",
        "\n",
        "These articles provide insights into the geographical distribution of various species and their correlation with climate change indicators, which can offer a perspective on the potential impacts of HPC systems on global climate patterns."
      ],
      "metadata": {
        "noteable": {
          "cell_type": "markdown"
        }
      },
      "id": "943b77a6-7411-4c77-9445-4a5bbd82bcc1"
    },
    {
      "cell_type": "markdown",
      "source": [
        "## Section 2: Correlation with Low-Income Energy Affordability Data and Energy Efficiency Trends\n",
        "\n",
        "In this section, we will explore how the locations of these HPC systems correlate with low-income energy affordability data and the trend in their energy efficiency.\n",
        "\n",
        "![Energy Efficiency](https://example.com/energy_efficiency.jpg)\n",
        "\n",
        "### Research Questions to Consider\n",
        "\n",
        "3. How do the locations of these HPC systems correlate with low-income energy affordability data? Are these systems located in regions where energy is less affordable?\n",
        "\n",
        "4. What is the trend in energy efficiency of the Green500 and Top500 HPC systems over the years? Is there a significant improvement in energy efficiency?\n",
        "\n",
        "### Recommended Readings\n",
        "Based on the topic \"Correlation with Low-Income Energy Affordability Data and Energy Efficiency Trends,\" I've found the following open-access articles that might be relevant:\n",
        "\n",
        "### Recommended Readings:\n",
        "\n",
        "1. **Ghezlane Halhoul Merabet, M. Essaaidi, M. Haddou, Basheer Qolomany, Junaid Qadir, M. Anan, A. Al-Fuqaha, M. Abid, & D. Benhaddou** (2021). [Intelligent Building Control Systems for Thermal Comfort and Energy-Efficiency: A Systematic Review of Artificial Intelligence-Assisted Techniques](https://www.frontiersin.org/articles/10.3389/fenrg.2022.832189/pdf). *Journal of Renewable and Sustainable Energy Reviews*. [PDF Link](https://arxiv.org/pdf/2104.02214)\n",
        "\n",
        "2. **C. Koronen, Max Åhman, & L. Nilsson** (2019). [Data centres in future European energy systems—energy efficiency, integration and policy](https://www.frontiersin.org/articles/10.3389/fenrg.2022.832578/pdf). *Energy Efficiency*. [PDF Link](https://link.springer.com/content/pdf/10.1007/s12053-019-09833-8.pdf)\n",
        "\n",
        "3. **Min Li, Michael Yao-Ping Peng, Raima Nazar, Bosede Ngozi Adeleye, Meng Shang, & Muhammad Waqas** (2022). [How Does Energy Efficiency Mitigate Carbon Emissions Without Reducing Economic Growth in Post COVID-19 Era](https://www.frontiersin.org/articles/10.3389/fenrg.2022.832189/pdf). *Frontiers in Energy Research*. [PDF Link](https://www.frontiersin.org/articles/10.3389/fenrg.2022.832189/pdf)\n",
        "\n",
        "These articles provide insights into energy efficiency, its implications, and strategies for improvement, especially in the context of HPC systems."
      ],
      "metadata": {
        "noteable": {
          "cell_type": "markdown"
        }
      },
      "id": "53faa205-50ca-47b7-8be0-43648fe892e9"
    },
    {
      "cell_type": "markdown",
      "source": [
        "## Section 3: Social Justice Implications and Strategies for Improving Energy Sustainability\n",
        "\n",
        "In this section, we will explore the social justice implications of the energy consumption of these HPC systems and potential strategies for improving their energy sustainability.\n",
        "\n",
        "![Social Justice](https://example.com/social_justice.jpg)\n",
        "\n",
        "### Research Questions to Consider\n",
        "\n",
        "5. What are the social justice implications of the energy consumption of these HPC systems? Are they contributing to energy inequality?\n",
        "\n",
        "6. What are the potential impacts of these HPC systems on local and global climate patterns?\n",
        "\n",
        "7. What strategies can be implemented to improve the energy sustainability of these HPC systems?\n",
        "\n",
        "\n",
        "### Recommended Readings:\n",
        "\n",
        "1. **Vallarta-Serrano, S. I., Santoyo-Castelazo, E., Santoyo, E., García-Mandujano, E. O., & Vázquez-Sánchez, H.** (2023). [Integrated Sustainability Assessment Framework of Industry 4.0 from an Energy Systems Thinking Perspective: Bibliometric Analysis and Systematic Literature Review](https://dx.doi.org/10.3390/en16145440). *Energies, 16*(14).\n",
        "   - **Citation**: Vallarta-Serrano, S. I., Santoyo-Castelazo, E., Santoyo, E., García-Mandujano, E. O., & Vázquez-Sánchez, H. (2023). Integrated Sustainability Assessment Framework of Industry 4.0 from an Energy Systems Thinking Perspective: Bibliometric Analysis and Systematic Literature Review. Energies, 16(14).\n",
        "   - [PDF Link](https://www.mdpi.com/1996-1073/16/14/5440/pdf?version=1689653126)\n",
        "\n",
        "2. **Davydenko, L., Davydenko, N., Deja, A., Wiśnicki, B., & Dzhuguryan, T.** (2023). [Efficient Energy Management for the Smart Sustainable City Multifloor Manufacturing Clusters: A Formalization of the Water Supply System Operation Conditions Based on Monitoring Water Consumption Profiles](https://dx.doi.org/10.3390/en16114519). *Energies, 16*(11).\n",
        "   - **Citation**: Davydenko, L., Davydenko, N., Deja, A., Wiśnicki, B., & Dzhuguryan, T. (2023). Efficient Energy Management for the Smart Sustainable City Multifloor Manufacturing Clusters: A Formalization of the Water Supply System Operation Conditions Based on Monitoring Water Consumption Profiles. Energies, 16(11).\n",
        "   - [PDF Link](https://www.mdpi.com/1996-1073/16/11/4519/pdf?version=1686043641)\n",
        "\n",
        "3. **De Giovanni, P.** (2023). [Sustainability of the Metaverse: A Transition to Industry 5.0](https://dx.doi.org/10.3390/su15076079). *Sustainability, 15*(7).\n",
        "   - **Citation**: De Giovanni, P. (2023). Sustainability of the Metaverse: A Transition to Industry 5.0. Sustainability, 15(7).\n",
        "   - [PDF Link](https://www.mdpi.com/2071-1050/15/7/6079/pdf?version=1680265695)\n",
        "\n",
        "These articles provide insights into the social justice implications of energy consumption and strategies for improving energy sustainability in various sectors, which can offer a perspective on the potential impacts of HPC systems on global climate patterns and energy inequality."
      ],
      "metadata": {
        "noteable": {
          "cell_type": "markdown"
        }
      },
      "id": "971f188d-3497-4d5a-a93e-a6ec6b6944b8"
    }
  ],
  "metadata": {
    "noteable-chatgpt": {
      "create_notebook": {
        "openai_conversation_id": "e26a1ec2-0cd5-5395-a8fc-68dcf8294ee0",
        "openai_ephemeral_user_id": "27b37775-cc2a-5458-bffc-e8b390507295",
        "openai_subdivision1_iso_code": "US-CA"
      }
    },
    "kernel_info": {
      "name": "python3"
    },
    "noteable": {
      "last_transaction_id": "c8f1feb0-477b-4a63-b49b-aba287beb1a2",
      "last_delta_id": "c8f1feb0-477b-4a63-b49b-aba287beb1a2"
    },
    "kernelspec": {
      "name": "python3",
      "display_name": "Python 3.9",
      "language": "python"
    },
    "selected_hardware_size": "small",
    "nteract": {
      "version": "noteable@2.9.0"
    }
  },
  "nbformat": 4,
  "nbformat_minor": 5
}
