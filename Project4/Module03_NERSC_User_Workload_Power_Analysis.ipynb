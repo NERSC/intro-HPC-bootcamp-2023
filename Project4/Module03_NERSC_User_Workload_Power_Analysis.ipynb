{
  "cells": [
    {
      "cell_type": "markdown",
      "source": [
        "# NERSC USERS and APPLICATION POWER and ENERGY ANALYSIS\n",
        "![HPC Analysis](https://images.unsplash.com/photo-1542744173-05336fcc7ad4?crop=entropy&cs=tinysrgb&fit=max&fm=jpg&ixid=M3w0NDgzMDl8MHwxfHNlYXJjaHwxfHxkYXRhJTIwYW5hbHlzaXMlMjBrZXklMjBmaW5kaW5nc3xlbnwwfHx8fDE2OTA5NTY5MTB8MA&ixlib=rb-4.0.3&q=80&w=400)\n",
        "This notebook provides analysis tools of High-Performance Computing (HPC) power and energy consumption using based on user projects that are active on PERLMUTTER at NERSC. The analysis focuses on various aspects such as active users, top projects, GPU utilization, and more. "
      ],
      "metadata": {
        "noteable": {
          "cell_type": "markdown"
        },
        "tags": [
          "show_line_numbers"
        ]
      },
      "id": "124db2c1-a412-492e-a89e-91632fc874c9"
    },
    {
      "cell_type": "markdown",
      "source": [
        "# Exploring the World of Data with Visual Flair 📊\n",
        "\n",
        "![Data Exploration](https://images.unsplash.com/photo-1551288049-bebda4e38f71?crop=entropy&cs=tinysrgb&fit=max&fm=jpg&ixid=M3w0NDgzMDl8MHwxfHNlYXJjaHw0fHxkYXRhJTIwZXhwbG9yYXRpb258ZW58MHx8fHwxNjkwOTU3NjgxfDA&ixlib=rb-4.0.3&q=80&w=400)\n",
        "\n",
        "Welcome to our data exploration journey! In this notebook, we'll be diving into a fascinating dataset, uncovering insights, patterns, and stories hidden within the numbers. But worry not, we won't be alone on this adventure. We have some of the most powerful Python libraries by our side:\n",
        "\n",
        "- **Pandas**: Our trusty data manipulation tool, capable of slicing and dicing the data just the way we want it.\n",
        "- **NumPy**: The mathematical wizard, handling all the numerical operations with ease and grace.\n",
        "- **Matplotlib**: The artist of the group, painting our insights in the form of beautiful and informative plots.\n",
        "- **Seaborn**: Matplotlib's sophisticated sibling, adding a touch of elegance and simplicity to our visualizations.\n",
        "\n",
        "Together, these tools will help us unravel the mysteries within our data. We'll start by setting a clean and crisp style for our plots, thanks to Seaborn's 'whitegrid'. Then, we'll read in our data file (don't forget to upload it or provide the path), and take a sneak peek at the first few rows.\n",
        "\n",
        "Ready to embark on this exciting exploration? Let's dive in! 🚀\n"
      ],
      "metadata": {
        "noteable": {
          "cell_type": "markdown"
        },
        "tags": [
          "show_line_numbers"
        ]
      },
      "id": "6b5100c5-1878-4ed7-9051-e403b106117c"
    },
    {
      "cell_type": "code",
      "source": [
        "import pandas as pd\n",
        "import numpy as np\n",
        "import matplotlib.pyplot as plt\n",
        "import seaborn as sns\n",
        "\n",
        "# Setting the style for the plots\n",
        "sns.set_style('whitegrid')\n",
        "\n",
        "# Reading the data (please upload the file or provide the path)\n",
        "# data = pd.read_csv('path_to_file.csv')\n",
        "\n",
        "# Displaying the first few rows of the data\n",
        "# data.head()"
      ],
      "outputs": [],
      "execution_count": null,
      "metadata": {
        "noteable": {
          "cell_type": "code"
        },
        "tags": [
          "show_line_numbers"
        ]
      },
      "id": "f5c00852-0bdc-4a74-9daf-8d8117629d0b"
    },
    {
      "cell_type": "code",
      "source": [
        "# Sample data\n",
        "data_sample = '''\n",
        "User Name,Organization,Organization Type,Organization Country,Is Active,CPU Compute Allocation,CPU Node Hours Charged,GPU Compute Allocation,GPU Node Hours Charged,PI Name,Project Description,Department,Organization City\n",
        "u232,Auburn University,UNIV,United States of America,True,23399.0,2426.4169444444447,150.0,0.0,Michael Pindzola,Computational Atomic and Molecular Physics for Fusion Energy Sciences,Department of Physics,Auburn\n",
        "u344,CompX - Computational Modeling and Software Development,SMBUS,United States of America,True,5000.0,0.0,7500.0,0.0,Jin Myung Park,AToM-2 SciDAC - Advanced Tokamak Modeling Environment,Fusion Theory,Del Mar\n",
        "u431,Princeton Plasma Physics Laboratory (PPPL),DOELAB,United States of America,True,81000.0,13781.63361111111,10075.0,1.1616666666666666,Stephen Jardin,3D Extended MHD simulation of fusion plasmas,Theory and Computation,Princeton\n",
        "u460,Princeton Plasma Physics Laboratory (PPPL),DOELAB,United States of America,True,0.0,0.0,100.0,0.0,Richard Gerber,NERSC overhead account for users with no active repo,,Princeton\n",
        "u617,Pacific Northwest National Laboratory (PNNL),DOELAB,United States of America,True,15170.3,0.0,29525.0,0.0,Sotiris Xantheas,\"Guest-host interactions in the gas phase, in aqueous systems and hydrate lattices\",\"Advanced Computing, Mathematics and Data\",Richland\n",
        "u650,CompX - Computational Modeling and Software Development,SMBUS,United States of America,True,42800.0,0.0,11925.0,0.0,Paul Bonoli,Center for Integrated Simulation of Fusion Relevant RF Actuators: SciDAC Project,Fusion,Del Mar\n",
        "u1103,University of Alaska Fairbanks,UNIV,United States of America,True,2062.5,0.0,15075.0,0.0,Jean-Noel Leboeuf,Gyrokinetic Studies of Non-Diffusive Transport,Department of Physics,Fairbanks\n",
        "u1165,University of Maryland,UNIV,United States of America,True,1000.0,0.0,2500.0,0.0,William Dorland,\"Turbulence, Transport and Magnetic Reconnection in High Temperature Plasma\",,College Park\n",
        "u70270,Lawrence Berkeley National Laboratory,DOELAB,United States of America,True,85.45555555555555,0.0,7.5,0.0,C. William McCurdy,Electron and Photon Collisions with Atoms and Molecules,Chemistry,Berkeley\n",
        "u1446,Oak Ridge National Laboratory,DOELAB,United States of America,True,2000.0,0.0,2500.0,0.0,Jin Myung Park,AToM-2 SciDAC - Advanced Tokamak Modeling Environment,Fusion Energy Division,Oak Ridge\n",
        "'''\n",
        "\n",
        "# Converting the sample data to a DataFrame\n",
        "# Reading data from the CSV file\n",
        "file_path = 'data/nersc_userdata2023.csv'\n",
        "data = pd.read_csv(file_path)\n",
        "\n",
        "# Displaying the first few rows of the data\n",
        "print(\"First few rows of the data:\")\n",
        "print(data.head())\n",
        "\n",
        "# Displaying column information for analyzing and visualization\n",
        "print(\"\\nColumn information:\")\n",
        "print(data.info())\n",
        "\n",
        "# Displaying summary statistics for numeric columns\n",
        "print(\"\\nSummary statistics for numeric columns:\")\n",
        "print(data.describe())"
      ],
      "outputs": [],
      "execution_count": null,
      "metadata": {
        "noteable": {
          "cell_type": "code"
        },
        "tags": [
          "show_line_numbers"
        ]
      },
      "id": "69a6f897-808d-4664-b864-46cbeb9b0fb7"
    },
    {
      "cell_type": "markdown",
      "source": [
        "## Overview of the Dataset\n",
        "Let's start by getting an overview of the dataset. We'll explore the basic statistics, data types, and null values in the dataset. This will give us a good understanding of the data we're working with."
      ],
      "metadata": {
        "noteable": {
          "cell_type": "markdown"
        },
        "tags": [
          "show_line_numbers"
        ]
      },
      "id": "1c6597fd-f97f-4998-b61c-a0076150516b"
    },
    {
      "cell_type": "code",
      "source": [
        "# Basic statistics of the dataset\n",
        "data_description = data.describe()\n",
        "data_description"
      ],
      "outputs": [],
      "execution_count": null,
      "metadata": {
        "noteable": {
          "cell_type": "code"
        },
        "tags": [
          "show_line_numbers"
        ]
      },
      "id": "dfa081a0-3246-4d07-9e71-52308120e209"
    },
    {
      "cell_type": "code",
      "source": [
        "# Data types of the columns\n",
        "data_types = data.dtypes\n",
        "data_types"
      ],
      "outputs": [],
      "execution_count": null,
      "metadata": {
        "noteable": {
          "cell_type": "code"
        },
        "tags": [
          "show_line_numbers"
        ]
      },
      "id": "87b1eb92-457c-4df3-9af0-de7213ef5e70"
    },
    {
      "cell_type": "code",
      "source": [
        "# Checking for missing values\n",
        "missing_values = data.isnull().sum()\n",
        "missing_values"
      ],
      "outputs": [],
      "execution_count": null,
      "metadata": {
        "noteable": {
          "cell_type": "code"
        },
        "tags": [
          "show_line_numbers"
        ]
      },
      "id": "b007a90b-ff3d-407b-8cd7-7f94f33c6b50"
    },
    {
      "cell_type": "markdown",
      "source": [
        "## Distribution of Numerical Columns\n",
        "We will visualize the distribution of numerical columns using histograms. This will help us understand the range and distribution of values in these columns."
      ],
      "metadata": {
        "noteable": {
          "cell_type": "markdown"
        },
        "tags": [
          "show_line_numbers"
        ]
      },
      "id": "ed65edbe-24d0-4e69-adee-f4ce89907c57"
    },
    {
      "cell_type": "code",
      "source": [
        "# Plotting histograms for numerical columns\n",
        "numerical_columns = ['CPU Compute Allocation', 'CPU Node Hours Charged', 'GPU Compute Allocation', 'GPU Node Hours Charged']\n",
        "for column in numerical_columns:\n",
        "    plt.figure(figsize=(10, 6))\n",
        "    sns.histplot(data[column], bins=20, kde=True)\n",
        "    plt.title(f'Distribution of {column}')\n",
        "    plt.xlabel(column)\n",
        "    plt.ylabel('Frequency')\n",
        "    plt.show()"
      ],
      "outputs": [],
      "execution_count": null,
      "metadata": {
        "noteable": {
          "cell_type": "code"
        },
        "tags": [
          "show_line_numbers"
        ]
      },
      "id": "5b82e9ba-5865-4d52-b55a-bffcfca7c47c"
    },
    {
      "cell_type": "markdown",
      "source": [
        "## Distribution of Categorical Columns\n",
        "We will explore the distribution of categorical columns such as 'Organization Type', 'Organization Country', and 'Is Active'. Understanding the distribution of these categories will provide insights into the composition of the dataset."
      ],
      "metadata": {
        "noteable": {
          "cell_type": "markdown"
        },
        "tags": [
          "show_line_numbers"
        ]
      },
      "id": "1a15448f-00e8-4c04-bc2a-cea6f6cf3482"
    },
    {
      "cell_type": "code",
      "source": [
        "# Plotting bar plots for categorical columns\n",
        "categorical_columns = ['Organization Type', 'Organization Country', 'Is Active']\n",
        "for column in categorical_columns:\n",
        "    plt.figure(figsize=(10, 6))\n",
        "    sns.countplot(data=data, x=column, order=data[column].value_counts().index)\n",
        "    plt.title(f'Distribution of {column}')\n",
        "    plt.xlabel(column)\n",
        "    plt.ylabel('Count')\n",
        "    plt.xticks(rotation=45)\n",
        "    plt.show()"
      ],
      "outputs": [],
      "execution_count": null,
      "metadata": {
        "noteable": {
          "cell_type": "code"
        },
        "tags": [
          "show_line_numbers"
        ]
      },
      "id": "246461e4-b8aa-4a20-baca-4be80f3da298"
    },
    {
      "cell_type": "markdown",
      "source": [
        "## Analyzing Relationships Between Variables\n",
        "We will analyze the relationships between different variables in the dataset. This includes exploring correlations between numerical variables and understanding how different factors such as organization type and country influence compute allocations."
      ],
      "metadata": {
        "noteable": {
          "cell_type": "markdown"
        },
        "tags": [
          "show_line_numbers"
        ]
      },
      "id": "eace0e63-4a5e-49c5-8f42-486258c7b93c"
    },
    {
      "cell_type": "code",
      "source": [
        "# Correlation matrix for numerical variables\n",
        "correlation_matrix = data[numerical_columns].corr()\n",
        "\n",
        "# Plotting the correlation matrix\n",
        "plt.figure(figsize=(12, 8))\n",
        "sns.heatmap(correlation_matrix, annot=True, cmap='coolwarm')\n",
        "plt.title('Correlation Matrix for Numerical Variables')\n",
        "plt.show()"
      ],
      "outputs": [],
      "execution_count": null,
      "metadata": {
        "noteable": {
          "cell_type": "code"
        },
        "tags": [
          "show_line_numbers"
        ]
      },
      "id": "2bdb3f5b-2e1c-467c-b3dc-613bc819a467"
    },
    {
      "cell_type": "markdown",
      "source": [
        "### Compute Allocations by Organization Type\n",
        "We will visualize the CPU and GPU compute allocations across different organization types. This will help us understand how resources are allocated among various types of organizations."
      ],
      "metadata": {
        "noteable": {
          "cell_type": "markdown"
        },
        "tags": [
          "show_line_numbers"
        ]
      },
      "id": "03494e54-544f-4668-a8a7-e8ebfbc559ad"
    },
    {
      "cell_type": "code",
      "source": [
        "# Plotting CPU and GPU compute allocations by organization type\n",
        "plt.figure(figsize=(14, 6))\n",
        "sns.barplot(x='Organization Type', y='CPU Compute Allocation', data=data, ci=None, color='blue', alpha=0.6, label='CPU Allocation')\n",
        "sns.barplot(x='Organization Type', y='GPU Compute Allocation', data=data, ci=None, color='green', alpha=0.6, label='GPU Allocation')\n",
        "plt.title('Compute Allocations by Organization Type')\n",
        "plt.xlabel('Organization Type')\n",
        "plt.ylabel('Compute Allocation')\n",
        "plt.legend()\n",
        "plt.xticks(rotation=45)\n",
        "plt.show()"
      ],
      "outputs": [],
      "execution_count": null,
      "metadata": {
        "noteable": {
          "cell_type": "code"
        },
        "tags": [
          "show_line_numbers"
        ]
      },
      "id": "38078140-c6a7-4d69-b433-8c6bab4b8a4b"
    },
    {
      "cell_type": "markdown",
      "source": [
        "### Compute Allocations by Organization Country\n",
        "We will visualize the CPU and GPU compute allocations across different countries. This will provide insights into the distribution of resources among various countries."
      ],
      "metadata": {
        "noteable": {
          "cell_type": "markdown"
        },
        "tags": [
          "show_line_numbers"
        ]
      },
      "id": "c3715cd9-2955-4bac-93a5-e4a59d5e40f1"
    },
    {
      "cell_type": "code",
      "source": [
        "# Plotting CPU and GPU compute allocations by organization country\n",
        "plt.figure(figsize=(14, 6))\n",
        "sns.barplot(x='Organization Country', y='CPU Compute Allocation', data=data, ci=None, color='blue', alpha=0.6, label='CPU Allocation')\n",
        "sns.barplot(x='Organization Country', y='GPU Compute Allocation', data=data, ci=None, color='green', alpha=0.6, label='GPU Allocation')\n",
        "plt.title('Compute Allocations by Organization Country')\n",
        "plt.xlabel('Organization Country')\n",
        "plt.ylabel('Compute Allocation')\n",
        "plt.legend()\n",
        "plt.xticks(rotation=90)\n",
        "plt.show()"
      ],
      "outputs": [],
      "execution_count": null,
      "metadata": {
        "noteable": {
          "cell_type": "code"
        },
        "tags": [
          "show_line_numbers"
        ]
      },
      "id": "3f80ffb7-3c88-41f1-8a52-dd9d4e1f49b8"
    },
    {
      "cell_type": "markdown",
      "source": [
        "### Relationship Between Compute Allocations and Node Hours Charged\n",
        "We will explore the relationship between compute allocations (both CPU and GPU) and the corresponding node hours charged. This analysis will help us understand how the allocated resources are being utilized."
      ],
      "metadata": {
        "noteable": {
          "cell_type": "markdown"
        },
        "tags": [
          "show_line_numbers"
        ]
      },
      "id": "d4f3af00-73a1-4afa-906b-dce174043ba5"
    },
    {
      "cell_type": "code",
      "source": [
        "# Plotting the relationship between CPU Compute Allocation and CPU Node Hours Charged\n",
        "plt.figure(figsize=(10, 6))\n",
        "sns.scatterplot(x='CPU Compute Allocation', y='CPU Node Hours Charged', data=data, hue='Organization Type')\n",
        "plt.title('Relationship Between CPU Compute Allocation and CPU Node Hours Charged')\n",
        "plt.xlabel('CPU Compute Allocation')\n",
        "plt.ylabel('CPU Node Hours Charged')\n",
        "plt.legend(title='Organization Type')\n",
        "plt.show()\n",
        "\n",
        "# Plotting the relationship between GPU Compute Allocation and GPU Node Hours Charged\n",
        "plt.figure(figsize=(10, 6))\n",
        "sns.scatterplot(x='GPU Compute Allocation', y='GPU Node Hours Charged', data=data, hue='Organization Type')\n",
        "plt.title('Relationship Between GPU Compute Allocation and GPU Node Hours Charged')\n",
        "plt.xlabel('GPU Compute Allocation')\n",
        "plt.ylabel('GPU Node Hours Charged')\n",
        "plt.legend(title='Organization Type')\n",
        "plt.show()"
      ],
      "outputs": [],
      "execution_count": null,
      "metadata": {
        "noteable": {
          "cell_type": "code"
        },
        "tags": [
          "show_line_numbers"
        ]
      },
      "id": "b5a6e382-abfd-489f-a688-846ed1604401"
    },
    {
      "cell_type": "markdown",
      "source": [
        "### Analysis of Active Users\n",
        "We will analyze the active users in the dataset, focusing on their compute allocations and node hours charged. Understanding the behavior of active users can provide insights into resource utilization and efficiency."
      ],
      "metadata": {
        "noteable": {
          "cell_type": "markdown"
        },
        "tags": [
          "show_line_numbers"
        ]
      },
      "id": "09aa1d6a-f092-4dc7-82d9-0518ed893da8"
    },
    {
      "cell_type": "code",
      "source": [
        "# Filtering active users\n",
        "active_users = data[data['Is Active'] == 'True']\n",
        "\n",
        "# Plotting CPU and GPU compute allocations for active users\n",
        "plt.figure(figsize=(14, 6))\n",
        "sns.barplot(x='Organization Type', y='CPU Compute Allocation', data=active_users, ci=None, color='blue', alpha=0.6, label='CPU Allocation')\n",
        "sns.barplot(x='Organization Type', y='GPU Compute Allocation', data=active_users, ci=None, color='green', alpha=0.6, label='GPU Allocation')\n",
        "plt.title('Compute Allocations for Active Users by Organization Type')\n",
        "plt.xlabel('Organization Type')\n",
        "plt.ylabel('Compute Allocation')\n",
        "plt.legend()\n",
        "plt.xticks(rotation=45)\n",
        "plt.show()"
      ],
      "outputs": [],
      "execution_count": null,
      "metadata": {
        "noteable": {
          "cell_type": "code"
        },
        "tags": [
          "show_line_numbers"
        ]
      },
      "id": "cb881d60-4fa8-4045-a2ab-2f344d318430"
    },
    {
      "cell_type": "markdown",
      "source": [
        "### Analysis of Top Projects and Departments\n",
        "We will analyze the top projects and departments in terms of compute allocations and node hours charged. Understanding the leading projects and departments can provide insights into the main areas of focus and resource consumption."
      ],
      "metadata": {
        "noteable": {
          "cell_type": "markdown"
        },
        "tags": [
          "show_line_numbers"
        ]
      },
      "id": "028699ad-24df-4fe9-95e3-42faf92d4f1d"
    },
    {
      "cell_type": "code",
      "source": [
        "# Analyzing top projects by CPU Compute Allocation\n",
        "top_projects_cpu = data.nlargest(10, 'CPU Compute Allocation')[['Project Description', 'CPU Compute Allocation']]\n",
        "plt.figure(figsize=(12, 6))\n",
        "sns.barplot(x='CPU Compute Allocation', y='Project Description', data=top_projects_cpu, palette='viridis')\n",
        "plt.title('Top 10 Projects by CPU Compute Allocation')\n",
        "plt.xlabel('CPU Compute Allocation')\n",
        "plt.ylabel('Project Description')\n",
        "plt.show()\n",
        "\n",
        "# Analyzing top departments by GPU Compute Allocation\n",
        "top_departments_gpu = data.nlargest(10, 'GPU Compute Allocation')[['Department', 'GPU Compute Allocation']]\n",
        "plt.figure(figsize=(12, 6))\n",
        "sns.barplot(x='GPU Compute Allocation', y='Department', data=top_departments_gpu, palette='inferno')\n",
        "plt.title('Top 10 Departments by GPU Compute Allocation')\n",
        "plt.xlabel('GPU Compute Allocation')\n",
        "plt.ylabel('Department')\n",
        "plt.show()"
      ],
      "outputs": [],
      "execution_count": null,
      "metadata": {
        "noteable": {
          "cell_type": "code"
        },
        "tags": [
          "show_line_numbers"
        ]
      },
      "id": "9c679739-938d-4f3d-ba63-2931d1d40532"
    },
    {
      "cell_type": "markdown",
      "source": [
        "### Geographic Distribution of Organizations\n",
        "We will visualize the geographic distribution of organizations based on their city and country. This analysis will provide a spatial understanding of where the organizations in the dataset are located."
      ],
      "metadata": {
        "noteable": {
          "cell_type": "markdown"
        },
        "tags": [
          "show_line_numbers"
        ]
      },
      "id": "e6a33fe6-0276-443f-bf62-ecea1ad0233f"
    },
    {
      "cell_type": "code",
      "source": [
        "# Importing geopy to geocode locations\n",
        "from geopy.geocoders import Nominatim\n",
        "geolocator = Nominatim(user_agent=\"geoapi\")\n",
        "\n",
        "# Function to geocode city and country\n",
        "def geocode_location(row):\n",
        "    location = geolocator.geocode(f\"{row['Organization City']}, {row['Organization Country']}\")\n",
        "    if location:\n",
        "        return location.latitude, location.longitude\n",
        "    return None, None\n",
        "\n",
        "# Applying the geocode function to the data\n",
        "data['Latitude'], data['Longitude'] = zip(*data.apply(geocode_location, axis=1))\n",
        "\n",
        "# Plotting the geographic distribution\n",
        "plt.figure(figsize=(14, 7))\n",
        "plt.scatter(data['Longitude'], data['Latitude'], c=data['CPU Compute Allocation'], cmap='viridis', s=50, alpha=0.6)\n",
        "plt.title('Geographic Distribution of Organizations')\n",
        "plt.xlabel('Longitude')\n",
        "plt.ylabel('Latitude')\n",
        "plt.colorbar(label='CPU Compute Allocation')\n",
        "plt.grid(True)\n",
        "plt.show()"
      ],
      "outputs": [],
      "execution_count": null,
      "metadata": {
        "noteable": {
          "cell_type": "code"
        },
        "tags": [
          "show_line_numbers"
        ]
      },
      "id": "345edcdc-e8d9-4539-bbbc-9e568b5cf976"
    },
    {
      "cell_type": "markdown",
      "source": [
        "### Analysis of GPU Utilization\n",
        "We will analyze the GPU utilization across different organization types and projects. Understanding GPU utilization can provide insights into the computational demands and efficiency of various research and development activities."
      ],
      "metadata": {
        "noteable": {
          "cell_type": "markdown"
        },
        "tags": [
          "show_line_numbers"
        ]
      },
      "id": "88f4375f-b172-4e9a-bb3d-3875eee3184e"
    },
    {
      "cell_type": "code",
      "source": [
        "# Plotting GPU Compute Allocation by Organization Type\n",
        "plt.figure(figsize=(14, 6))\n",
        "sns.barplot(x='Organization Type', y='GPU Compute Allocation', data=data, ci=None, color='purple', alpha=0.6)\n",
        "plt.title('GPU Compute Allocation by Organization Type')\n",
        "plt.xlabel('Organization Type')\n",
        "plt.ylabel('GPU Compute Allocation')\n",
        "plt.xticks(rotation=45)\n",
        "plt.show()\n",
        "\n",
        "# Plotting GPU Node Hours Charged by Organization Type\n",
        "plt.figure(figsize=(14, 6))\n",
        "sns.barplot(x='Organization Type', y='GPU Node Hours Charged', data=data, ci=None, color='orange', alpha=0.6)\n",
        "plt.title('GPU Node Hours Charged by Organization Type')\n",
        "plt.xlabel('Organization Type')\n",
        "plt.ylabel('GPU Node Hours Charged')\n",
        "plt.xticks(rotation=45)\n",
        "plt.show()"
      ],
      "outputs": [],
      "execution_count": null,
      "metadata": {
        "noteable": {
          "cell_type": "code"
        },
        "tags": [
          "show_line_numbers"
        ]
      },
      "id": "e4354fea-9b27-4e8f-a895-161a6352398d"
    },
    {
      "cell_type": "markdown",
      "source": [
        "### Investigating Inactive Users\n",
        "We will investigate the inactive users in the dataset, focusing on their previous compute allocations and node hours charged. Understanding the characteristics of inactive users can provide insights into resource allocation strategies and potential areas for optimization."
      ],
      "metadata": {
        "noteable": {
          "cell_type": "markdown"
        },
        "tags": [
          "show_line_numbers"
        ]
      },
      "id": "52d1f2d8-ac71-46bd-bdf0-c6aa2d5274cd"
    },
    {
      "cell_type": "code",
      "source": [
        "# Filtering inactive users\n",
        "inactive_users = data[data['Is Active'] == 'False']\n",
        "\n",
        "# Plotting CPU and GPU compute allocations for inactive users\n",
        "plt.figure(figsize=(14, 6))\n",
        "sns.barplot(x='Organization Type', y='CPU Compute Allocation', data=inactive_users, ci=None, color='blue', alpha=0.6, label='CPU Allocation')\n",
        "sns.barplot(x='Organization Type', y='GPU Compute Allocation', data=inactive_users, ci=None, color='red', alpha=0.6, label='GPU Allocation')\n",
        "plt.title('Compute Allocations for Inactive Users by Organization Type')\n",
        "plt.xlabel('Organization Type')\n",
        "plt.ylabel('Compute Allocation')\n",
        "plt.legend()\n",
        "plt.xticks(rotation=45)\n",
        "plt.show()"
      ],
      "outputs": [],
      "execution_count": null,
      "metadata": {
        "noteable": {
          "cell_type": "code"
        },
        "tags": [
          "show_line_numbers"
        ]
      },
      "id": "60ef6d79-d45f-48da-b8b6-3c304d0c46bb"
    },
    {
      "cell_type": "markdown",
      "source": [
        "### Summary and Recommendations\n",
        "Based on the analysis conducted, we can summarize key findings and provide recommendations for optimizing resource allocations, enhancing efficiency, and supporting various research and development activities."
      ],
      "metadata": {
        "noteable": {
          "cell_type": "markdown"
        },
        "tags": [
          "show_line_numbers"
        ]
      },
      "id": "59ee2713-3038-47b8-9930-0a6b9e3f6609"
    },
    {
      "cell_type": "markdown",
      "source": [
        "#### Key Findings\n",
        "- **Active Users:** The analysis of active users showed variations in compute allocations across different organization types. Understanding the behavior of active users provided insights into resource utilization and efficiency.\n",
        "- **Top Projects and Departments:** The leading projects and departments were identified based on compute allocations, highlighting the main areas of focus and resource consumption.\n",
        "- **Geographic Distribution:** The spatial distribution of organizations provided an understanding of where the organizations are located, with variations in CPU compute allocation.\n",
        "- **GPU Utilization:** GPU utilization across different organization types was analyzed, revealing insights into computational demands and efficiency.\n",
        "- **Inactive Users:** Investigating inactive users and their previous compute allocations provided insights into resource allocation strategies and potential areas for optimization.\n",
        "\n",
        "#### Recommendations\n",
        "- **Optimize Resource Allocation:** Regularly review and reallocate resources based on user activity and project requirements to ensure efficient utilization.\n",
        "- **Support Key Projects and Departments:** Allocate additional resources to top-performing projects and departments to foster innovation and research.\n",
        "- **Enhance GPU Utilization:** Evaluate GPU demands and allocate resources accordingly to support computationally intensive tasks.\n",
        "- **Monitor Inactive Users:** Implement monitoring and notification mechanisms to identify inactive users and reallocate resources as needed.\n",
        "- **Consider Geographic Distribution:** Take into account the geographic distribution of organizations when planning infrastructure and support services."
      ],
      "metadata": {
        "noteable": {
          "cell_type": "markdown"
        },
        "tags": [
          "show_line_numbers"
        ]
      },
      "id": "e54fa8dd-6d48-4b36-a804-fab60e24096c"
    }
  ],
  "metadata": {
    "noteable-chatgpt": {
      "create_notebook": {
        "openai_conversation_id": "6ce67e85-e7c5-52cd-b6b8-0ce7582c15bc",
        "openai_ephemeral_user_id": "dbfcc28d-4fe1-5308-a9a4-2e3a2f9f7dcc",
        "openai_subdivision1_iso_code": "US-GA"
      }
    },
    "kernel_info": {
      "name": "python3"
    },
    "noteable": {
      "last_transaction_id": "48c8a279-0ac5-4c8e-b9ec-312381479e74",
      "last_delta_id": "3914b7a6-f657-4ee6-a932-3d8af3f8c204"
    },
    "kernelspec": {
      "display_name": "Python 3.9",
      "language": "python",
      "name": "python3"
    },
    "selected_hardware_size": "small",
    "nteract": {
      "version": "noteable@2.9.0"
    }
  },
  "nbformat": 4,
  "nbformat_minor": 5
}