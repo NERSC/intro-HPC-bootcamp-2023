{
 "cells": [
  {
   "cell_type": "markdown",
   "id": "be531734-4ad1-44ea-8ba5-394682ee549a",
   "metadata": {},
   "source": [
    "# Title"
   ]
  },
  {
   "cell_type": "markdown",
   "id": "5610bdfd-7961-4f16-88e6-499aaa3189c3",
   "metadata": {},
   "source": [
    "Text about the whole point of this project"
   ]
  },
  {
   "cell_type": "markdown",
   "id": "a420da9a-f8b2-4174-89a3-b7958e9355d5",
   "metadata": {},
   "source": [
    "## Loading the Data"
   ]
  },
  {
   "cell_type": "code",
   "execution_count": null,
   "id": "ad28c81d-389c-4302-aa88-c094d2f4f773",
   "metadata": {
    "tags": []
   },
   "outputs": [],
   "source": [
    "import pandas as pd\n",
    "import glob\n",
    "import matplotlib.pyplot as plt\n",
    "import seaborn as sns\n",
    "import numpy as np\n",
    "scale = 1.75 #pick something less than 2\n",
    "sns.set(rc={'figure.figsize':(4*scale,3*scale)})\n"
   ]
  },
  {
   "cell_type": "markdown",
   "id": "8d40f5c8-e6b4-4c75-aac9-ca35595d02e5",
   "metadata": {},
   "source": [
    "Make sure you update the path to where you have put the data! This should be a path on the NERSC system, not your local machine. "
   ]
  },
  {
   "cell_type": "code",
   "execution_count": null,
   "id": "336881cb-29af-4981-9305-8baa35ce8f9e",
   "metadata": {
    "tags": []
   },
   "outputs": [],
   "source": [
    "data_path = \"data/TOP500_202306.csv\"\n",
    "\n",
    "# Load the data into a pandas DataFrame\n",
    "data = pd.read_csv(data_path)\n",
    "\n",
    "##The following lines do some basic formatting/housekeeping, don't worry about these for now!\n",
    "dfraw = data.copy()\n",
    "data[\"Name\"].fillna(data[\"Site ID\"], inplace = True)\n",
    "data[\"Accelerator/Co-Processor Cores\"].fillna(0, inplace = True)\n",
    "data = data.drop(columns = [\"Nmax\", \"Nhalf\", \"HPCG [TFlop/s]\", \"Memory\", \"Previous Rank\", \"Site ID\", \"System ID\"])\n",
    "\n",
    "# Display the first few rows of the dataframe\n",
    "data.head(5)"
   ]
  },
  {
   "cell_type": "code",
   "execution_count": null,
   "id": "8812f762-9460-4024-9509-a15908ebb69a",
   "metadata": {
    "tags": []
   },
   "outputs": [],
   "source": [
    "# Let's take a look at the data types!\n",
    "data.info()"
   ]
  },
  {
   "cell_type": "markdown",
   "id": "8bd7fbed-279e-4a51-a295-9d042ad147d0",
   "metadata": {},
   "source": [
    "## Preparing the Data for Analysis"
   ]
  },
  {
   "cell_type": "markdown",
   "id": "b91041e3-1da3-4205-95da-417c25ee06fb",
   "metadata": {},
   "source": [
    "Notice something strange about the data? For example, are there missing values? Also, are all the numeric values actually numbers, or are some of them \"objects\"?\n",
    "\n",
    "Noticing this is an important part of data analysis, and uses your background as a scientist/engineer/mathmatician or other experience! \n",
    "\n",
    "Can you figure out which columns need to be converted to numbers? \n",
    "\n",
    "Can you figure out which data need to be removed from our data, in order to correctly acheive our goal analysis?"
   ]
  },
  {
   "cell_type": "markdown",
   "id": "7212f4c9-393b-4fa4-b04d-5a2447ddd339",
   "metadata": {
    "tags": []
   },
   "source": [
    "### Exercise"
   ]
  },
  {
   "cell_type": "markdown",
   "id": "13a10384-8313-4da3-b846-b0a6a74a3066",
   "metadata": {},
   "source": [
    "You can click on this cell and type your guesses here!"
   ]
  },
  {
   "cell_type": "markdown",
   "id": "560619a8-fe7c-468c-be26-37d9e7f7d6c9",
   "metadata": {},
   "source": [
    "### Clean Up Time!"
   ]
  },
  {
   "cell_type": "markdown",
   "id": "63af586e-46a2-4032-bf4d-47109d87c65b",
   "metadata": {},
   "source": [
    "While you think about that, let's clean up some of our data. What does cleaning mean?\n",
    "\n",
    "For example, many of the numeric values are written in the format \"500,000,000\" with commas, which we can understand. But Python does not understand that this is the number five hundred million, or 500000000. This is the case for many of the values in this data. So we have to clean the data, by removing the commas, and casting the value into the appropriate data type. \n",
    "\n",
    "First, let's figure out what needs to be done to the value to \"clean it.\" \n",
    "\n",
    "The value x is \"500,000,000\". We need to: \n",
    "- Remove the commas\n",
    "- Cast the value into an integer\n",
    "\n",
    "In Python, strings have a \"replace\" function that searches for the string character specified in the first positional argument, and replaces it with the second. \n",
    "\n",
    "`x.replace(',','')`\n",
    "\n",
    "Willi take x to \"500000000\". This is still a string! So we need to cast it. This is done with the `int` or `float` function for casting to integer and floating point number respectively. \n",
    "\n",
    "`int(x.replace(',',''))`"
   ]
  },
  {
   "cell_type": "markdown",
   "id": "43bfb8ce-cca0-457e-bb83-fc7eaa349fb0",
   "metadata": {},
   "source": [
    "Great! We now know how to convert one value easily. What about a whole column?\n",
    "\n",
    "Luckily, we can tell Python that we have a function that takes one value and spits out another (based on the input value), and ask it to apply that function to each value in a column. We will do this using the `map` function on a `lambda` function/statement. \n",
    "\n",
    "An example of a lambda function is:\n",
    "\n",
    "`myx = lambda a: a + 10`\n",
    "\n",
    "Which means that any value given to the function myx will return the value plus 10. This is a really fast way to define a simple function. For example, we want to take each value in our column and apply the replace and integer functions. So our function is: \n",
    "\n",
    "`x = lambda x: float(x.replace(',',''))`\n",
    "\n",
    "And lastly, we want to apply that function to every value in a column individually (element-wise operation). We can do this by using the `map` function: \n",
    "\n",
    "```df[\"col_name\"] = df[\"col_name\"].map(lambda x: int(x.replace(',','')))```\n",
    "\n",
    "\n",
    "But first..."
   ]
  },
  {
   "cell_type": "markdown",
   "id": "bedd3a16-e1ea-425b-bde8-826b6f56de2f",
   "metadata": {},
   "source": [
    "If we don't cut out the data that is missing, we will get errors when we try to clean the data. So, did you figure out which data to remove? If you did, use the `.notna()` function to tell pandas to drop all rows in the dataframe where the specified column's value is not NA: \n",
    "\n",
    "`data = data[data[column_to_use_for_cutting].notna()]`\n",
    "What should `column_to_use_for_cutting` be?"
   ]
  },
  {
   "cell_type": "markdown",
   "id": "4f5bc35e-3284-476a-93ff-1222f908b0cd",
   "metadata": {
    "tags": []
   },
   "source": [
    "### Exercise"
   ]
  },
  {
   "cell_type": "code",
   "execution_count": null,
   "id": "97994e37-e7d2-40dc-8dca-8ba8a2bd9938",
   "metadata": {
    "tags": []
   },
   "outputs": [],
   "source": [
    "## This will eliminate any data rows where the power value is not specified\n",
    "#column_to_use_for_cutting = #what goes here?\n",
    "#data = data[data[column_to_use_for_cutting].notna()]\n",
    "\n",
    "## Solution\n",
    "column_to_use_for_cutting = \"Energy Efficiency [GFlops/Watts]\"\n",
    "data = data[data[column_to_use_for_cutting].notna()]\n",
    "\n",
    "# Solutions can include the Power col or the Power souce col (assuming the same rows are missing)\n"
   ]
  },
  {
   "cell_type": "code",
   "execution_count": null,
   "id": "aefdf1dd-164c-40d0-8008-16733cb22d5e",
   "metadata": {
    "tags": []
   },
   "outputs": [],
   "source": [
    "## This uses the above formula to convert object/string values to an integer\n",
    "data[\"Total Cores\"] = data[\"Total Cores\"].map(lambda x: int(x.replace(',','')))\n",
    "\n",
    "## Try it out! Follow the formula above to convert the following values correctly:\n",
    "# data[\"Rmax [TFlop/s]\"] = data[\"Rmax [TFlop/s]\"]#What goes here??\n",
    "# data[\"Rpeak [TFlop/s]\"] = data[\"Rpeak [TFlop/s]\"]#What goes here??\n",
    "# data[\"Processor Speed (MHz)\"] = data[\"Processor Speed (MHz)\"]#What goes here??                               \n",
    "# data[\"Power (kW)\"] = data[\"Power (kW)\"]#What goes here??\n",
    "\n",
    "### Solution                                                                  \n",
    "data[\"Rmax [TFlop/s]\"] = data[\"Rmax [TFlop/s]\"].map(lambda x: float(x.replace(',','')))\n",
    "data[\"Rpeak [TFlop/s]\"] = data[\"Rpeak [TFlop/s]\"].map(lambda x: float(x.replace(',','')))\n",
    "data[\"Processor Speed (MHz)\"] = data[\"Processor Speed (MHz)\"].map(lambda x: float(x.replace(',','')))\n",
    "data[\"Power (kW)\"] = data[\"Power (kW)\"].map(lambda x: float(x.replace(',',''))) "
   ]
  },
  {
   "cell_type": "markdown",
   "id": "b330edb0-7f0b-4f8d-9f24-bf4a45858ec2",
   "metadata": {},
   "source": [
    "Now let's double check that the data is cleaned up and ready to use!"
   ]
  },
  {
   "cell_type": "code",
   "execution_count": null,
   "id": "df742b4a-5df7-424c-817f-55616605afd8",
   "metadata": {
    "tags": []
   },
   "outputs": [],
   "source": [
    "data.info()\n",
    "columns = list(data.columns)"
   ]
  },
  {
   "cell_type": "markdown",
   "id": "3d12997f-787e-437f-8c34-8bce43433e76",
   "metadata": {},
   "source": [
    "In order to make it easier to select multiple columns at the same time, we can use the index calue associated with the column:"
   ]
  },
  {
   "cell_type": "code",
   "execution_count": null,
   "id": "a438494e-7631-42b4-a75d-4ec1b837945e",
   "metadata": {
    "tags": []
   },
   "outputs": [],
   "source": [
    "## You can pick which columns to descibe - remember they have to be numeric!\n",
    "\n",
    "cols = [11,13,14,18,20]\n",
    "cols_to_describe = [columns[i] for i in cols]\n",
    "print(cols_to_describe)\n",
    "data[cols_to_describe].describe()"
   ]
  },
  {
   "cell_type": "markdown",
   "id": "c6e5deac-5701-4ee4-b0a3-56247b3ddce6",
   "metadata": {},
   "source": [
    "## Exploring the Data"
   ]
  },
  {
   "cell_type": "markdown",
   "id": "495ea93f-f2ef-4e84-94bb-dd82bdae2eb1",
   "metadata": {},
   "source": [
    "blurb about getting a sense of the data by plotting it - especially histograms to see distributions"
   ]
  },
  {
   "cell_type": "code",
   "execution_count": null,
   "id": "2fefbc36-3d86-441f-a5ac-a90c3fd8d3b8",
   "metadata": {
    "tags": []
   },
   "outputs": [],
   "source": [
    "distplt = sns.displot(data = data, x = \"Power (kW)\", aspect=16/9)"
   ]
  },
  {
   "cell_type": "code",
   "execution_count": null,
   "id": "5f40c29e-3f26-4595-a202-5e07af01267a",
   "metadata": {
    "tags": []
   },
   "outputs": [],
   "source": [
    "distplt = sns.displot(data = data, x = \"Energy Efficiency [GFlops/Watts]\", aspect=16/9)"
   ]
  },
  {
   "cell_type": "markdown",
   "id": "64afe5e9-8f06-4d62-8fbf-c8ec2ba4ea53",
   "metadata": {},
   "source": [
    "## Top 500 Ranking:"
   ]
  },
  {
   "cell_type": "markdown",
   "id": "40a4fa03-e8be-4312-9afa-3354d3e0e43e",
   "metadata": {},
   "source": [
    "blurb!"
   ]
  },
  {
   "cell_type": "markdown",
   "id": "25f2d667-3add-4414-8811-1430b0c0bc1f",
   "metadata": {},
   "source": [
    "## Exercise: \n",
    "-ask students to determine which quantity the systems are ranked on\n",
    "\n",
    "-this can then be contrasted/compared to the green500 data."
   ]
  },
  {
   "cell_type": "code",
   "execution_count": null,
   "id": "3fda5221-c06b-4648-99d7-4ca9f364a131",
   "metadata": {
    "tags": []
   },
   "outputs": [],
   "source": [
    "# We can see that these systems are ranked based on this Rmax value:\n",
    "scatter = sns.scatterplot(data = data, x = \"Rank\", y = \"Rmax [TFlop/s]\", hue = \"Power (kW)\")\n",
    "plt.yscale('log')"
   ]
  },
  {
   "cell_type": "markdown",
   "id": "69d63e4c-c9cf-47e6-a092-86460c4076e3",
   "metadata": {},
   "source": [
    "### Exercise:\n",
    "What would the rankings be if they were ranked on ____?\n",
    "- use something like np.argsort to sort on a different column and replot."
   ]
  },
  {
   "cell_type": "code",
   "execution_count": null,
   "id": "aec9caa1-3bf7-4877-a08a-704fdc962ca6",
   "metadata": {
    "tags": []
   },
   "outputs": [],
   "source": [
    "inds = np.argsort(data[\"Energy Efficiency [GFlops/Watts]\"])\n",
    "sns.scatterplot(x = range(len(inds)), y = data[\"Energy Efficiency [GFlops/Watts]\"].iloc[inds[::-1]])"
   ]
  },
  {
   "cell_type": "code",
   "execution_count": null,
   "id": "891cbf15-f96a-42f4-aabf-51c3aa7cd2d1",
   "metadata": {
    "tags": []
   },
   "outputs": [],
   "source": [
    "## We can reorder the data to have our new ranking!\n",
    "new_ranking = data.sort_values(\"Energy Efficiency [GFlops/Watts]\", ascending = False)"
   ]
  },
  {
   "cell_type": "markdown",
   "id": "bffb5cdd-7abb-4998-85a9-afce5b5b4d29",
   "metadata": {},
   "source": [
    "## Exploring regions and vendors"
   ]
  },
  {
   "cell_type": "code",
   "execution_count": null,
   "id": "ff8ab633-3ca2-4846-938e-9bbffc394360",
   "metadata": {
    "tags": []
   },
   "outputs": [],
   "source": [
    "countries = data.groupby(\"Country\").count()\n",
    "countries.head()"
   ]
  },
  {
   "cell_type": "markdown",
   "id": "7a83247e-dfde-4708-bdea-cd1cbb5f4869",
   "metadata": {},
   "source": [
    "We can sort these values and look at which countries have the most systems in the top 500:"
   ]
  },
  {
   "cell_type": "code",
   "execution_count": null,
   "id": "19c3ee91-74d4-4b2a-b598-4d023ba99ad0",
   "metadata": {
    "tags": []
   },
   "outputs": [],
   "source": [
    "countries.sort_values('Rank', ascending=False)[\"Rank\"].plot(kind = \"bar\")\n",
    "plt.xlabel(\"slkjf\")\n",
    "plt.ylabel(\"sdjkfl\")"
   ]
  },
  {
   "cell_type": "markdown",
   "id": "6abdbd5b-85dd-4fb8-a97b-052434dcbfeb",
   "metadata": {},
   "source": [
    "Lets deep dive into the top 5 countries"
   ]
  },
  {
   "cell_type": "code",
   "execution_count": null,
   "id": "2dd95eff-0676-4d6c-93d1-8d02c9026b95",
   "metadata": {
    "tags": []
   },
   "outputs": [],
   "source": [
    "top5countries = list(countries.sort_values('Rank', ascending=False).index[:5])\n",
    "print(top5countries)\n",
    "top5countrydata = data.loc[data['Country'].isin(top5countries)]\n",
    "sns.scatterplot(data = top5countrydata, x = \"Rank\", y = \"Energy Efficiency [GFlops/Watts]\", hue = \"Country\")"
   ]
  },
  {
   "cell_type": "markdown",
   "id": "cc53fd65-fc60-4458-b513-d006fe08c343",
   "metadata": {},
   "source": [
    "That is really hard to interpret! Let's try another type of plot:"
   ]
  },
  {
   "cell_type": "code",
   "execution_count": null,
   "id": "a304b33b-c87a-4a65-a455-139815919278",
   "metadata": {
    "tags": []
   },
   "outputs": [],
   "source": [
    "sns.swarmplot(data = top5countrydata, x = \"Energy Efficiency [GFlops/Watts]\", \n",
    "              y = \"Country\", order = top5countries, size = 4)\n"
   ]
  },
  {
   "cell_type": "markdown",
   "id": "dd3f92ef-8fea-4a22-9379-5672f45ff7d5",
   "metadata": {},
   "source": [
    "Let's look into the vendors of these machines"
   ]
  },
  {
   "cell_type": "code",
   "execution_count": null,
   "id": "e793ce69-09c9-44c1-949d-13172224cd56",
   "metadata": {
    "tags": []
   },
   "outputs": [],
   "source": [
    "vendors = top5countrydata.groupby(\"Manufacturer\").count()\n",
    "vendors.sort_values('Rank', ascending=False)\n",
    "top5vendors = list(vendors.sort_values('Rank', ascending=False).index[:5])\n",
    "print(top5vendors)\n",
    "top5vendata = data.loc[data['Manufacturer'].isin(top5vendors)]\n",
    "top5vendata"
   ]
  },
  {
   "cell_type": "code",
   "execution_count": null,
   "id": "014b4065-6748-4216-bf87-08ac371a2aeb",
   "metadata": {
    "tags": []
   },
   "outputs": [],
   "source": [
    "sns.swarmplot(data = top5vendata, x = \"Energy Efficiency [GFlops/Watts]\", y = \"Manufacturer\", order = top5vendors, size = 4, hue = \"Country\")\n"
   ]
  },
  {
   "cell_type": "markdown",
   "id": "05579256-f6c7-4e34-bf49-18f5ce797d47",
   "metadata": {},
   "source": [
    "Oops! Only want our top 5 countries for now:"
   ]
  },
  {
   "cell_type": "code",
   "execution_count": null,
   "id": "0a76a99c-784d-4cae-b9b9-be3ad541cb6c",
   "metadata": {
    "tags": []
   },
   "outputs": [],
   "source": [
    "top5vcountry = top5vendata.loc[top5vendata['Country'].isin(top5countries)]\n",
    "sns.swarmplot(data = top5vcountry, x = \"Energy Efficiency [GFlops/Watts]\", y = \"Manufacturer\", order = top5vendors, size = 4, hue = \"Country\")\n"
   ]
  },
  {
   "cell_type": "code",
   "execution_count": null,
   "id": "31696f73-3ec5-4b37-889a-ec623da0647d",
   "metadata": {
    "tags": []
   },
   "outputs": [],
   "source": [
    "sns.swarmplot(data = top5vcountry, x = \"Energy Efficiency [GFlops/Watts]\", y = \"Country\", order = top5countries, size = 4, hue = \"Manufacturer\")\n"
   ]
  }
 ],
 "metadata": {
  "kernelspec": {
   "display_name": "NERSC Python",
   "language": "python",
   "name": "python3"
  },
  "language_info": {
   "codemirror_mode": {
    "name": "ipython",
    "version": 3
   },
   "file_extension": ".py",
   "mimetype": "text/x-python",
   "name": "python",
   "nbconvert_exporter": "python",
   "pygments_lexer": "ipython3",
   "version": "3.9.7"
  }
 },
 "nbformat": 4,
 "nbformat_minor": 5
}
