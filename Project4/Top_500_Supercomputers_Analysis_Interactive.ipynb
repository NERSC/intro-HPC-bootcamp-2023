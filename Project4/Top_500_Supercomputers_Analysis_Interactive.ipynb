{
  "cells": [
    {
      "cell_type": "markdown",
      "source": [
        "# Top 500 Supercomputers Analysis\n",
        "Welcome to our interactive Jupyter notebook where we will explore and analyze data from the TOP500 supercomputers! This notebook includes interactive exercises to help you practice and apply your knowledge. Let's get started!"
      ],
      "metadata": {
        "noteable": {
          "cell_type": "markdown"
        }
      },
      "id": "07996799-a176-4c8a-aba9-d5e2a19017bd"
    },
    {
      "cell_type": "markdown",
      "source": [
        "## Loading the Data\n",
        "Let's start by loading the data and getting a glimpse of what it contains. We have information about various supercomputers, such as their ranks, performance metrics, energy efficiency, and more.\n",
        "\n",
        "Make sure to run the code cell below to load the data and set up the necessary libraries."
      ],
      "metadata": {
        "noteable": {
          "cell_type": "markdown"
        }
      },
      "id": "375d55b1-8ffa-48be-9ed6-bb51838b482a"
    },
    {
      "cell_type": "code",
      "source": [
        "import pandas as pd\n",
        "import glob\n",
        "import matplotlib.pyplot as plt\n",
        "import seaborn as sns\n",
        "import numpy as np\n",
        "\n",
        "scale = 1.75  # pick something less than 2\n",
        "sns.set(rc={'figure.figsize': (4 * scale, 3 * scale)})\n",
        "\n",
        "data_path = \"data/TOP500_202306.csv\"\n",
        "data = pd.read_csv(data_path)\n",
        "\n",
        "## The following lines do some basic formatting/housekeeping, don't worry about these for now!\n",
        "dfraw = data.copy()\n",
        "data[\"Name\"].fillna(data[\"Site ID\"], inplace=True)\n",
        "data[\"Accelerator/Co-Processor Cores\"].fillna(0, inplace=True)\n",
        "data = data.drop(columns=[\"Nmax\", \"Nhalf\", \"HPCG [TFlop/s]\", \"Memory\", \"Previous Rank\", \"Site ID\", \"System ID\"])\n",
        "\n",
        "# Display the first few rows of the dataframe\n",
        "data.head(5)"
      ],
      "outputs": [],
      "execution_count": null,
      "metadata": {
        "noteable": {
          "cell_type": "code"
        }
      },
      "id": "11c82196-40ce-4eca-bbcf-79d884d7d75c"
    },
    {
      "cell_type": "markdown",
      "source": [
        "### Exercise 1: Data Inspection\n",
        "Now that we have loaded the data, can you identify the columns with missing values and the data types of each column? Write the code in the cell below to inspect the data."
      ],
      "metadata": {
        "noteable": {
          "cell_type": "markdown"
        }
      },
      "id": "e7381676-f41a-4ce9-a76c-fd5637a0e2fe"
    },
    {
      "cell_type": "markdown",
      "source": [
        "## Preparing the Data for Analysis\n",
        "Before we dive into analysis, let's take a moment to look at the data. We need to handle missing values and convert certain columns to the appropriate data types.\n",
        "\n",
        "### Exercise 2: Data Cleaning\n",
        "1. Identify the columns that need to be converted to numbers and write code to convert them.\n",
        "2. Identify which data needs to be removed from our analysis to handle missing values and write code to handle them.\n",
        "\n",
        "(Note: You can click on the cell below and write your code!)"
      ],
      "metadata": {
        "noteable": {
          "cell_type": "markdown"
        }
      },
      "id": "a2017ce9-15d1-4e73-aedd-464914893745"
    },
    {
      "cell_type": "markdown",
      "source": [
        "## Exploring the Data\n",
        "Now that our data is cleaned up, let's explore it through visualization. We will start by visualizing the distribution of some important features.\n",
        "\n",
        "### Histograms\n",
        "We will use histograms to see the distributions of \"Power (kW)\" and \"Energy Efficiency [GFlops/Watts]\" columns. Run the code cells below to visualize them."
      ],
      "metadata": {
        "noteable": {
          "cell_type": "markdown"
        }
      },
      "id": "43c7647c-28a4-4c31-9dc3-f6e62bd3e85c"
    },
    {
      "cell_type": "code",
      "source": [
        "distplt_power = sns.displot(data=data, x=\"Power (kW)\", aspect=16/9)\n",
        "distplt_energy = sns.displot(data=data, x=\"Energy Efficiency [GFlops/Watts]\", aspect=16/9)"
      ],
      "outputs": [],
      "execution_count": null,
      "metadata": {
        "noteable": {
          "cell_type": "code"
        }
      },
      "id": "e326e346-266e-4c34-be75-525045931559"
    },
    {
      "cell_type": "markdown",
      "source": [
        "### Exercise 3: Histogram Analysis\n",
        "Analyze the histograms above and answer the following questions:\n",
        "1. What can you infer about the distribution of \"Power (kW)\"?\n",
        "2. Are there any outliers in the \"Energy Efficiency [GFlops/Watts]\" distribution?\n",
        "3. How would you describe the overall trends in these features?\n",
        "\n",
        "(Note: You can click on the cell below and write your answers!)"
      ],
      "metadata": {
        "noteable": {
          "cell_type": "markdown"
        }
      },
      "id": "f930a12f-eefc-4ed0-80d7-a48627b9b007"
    },
    {
      "cell_type": "markdown",
      "source": [
        "## Top 500 Ranking\n",
        "The TOP500 list ranks supercomputers based on their performance, specifically the \"Rmax [TFlop/s]\" value. Let's visualize the relationship between the rankings and the \"Rmax [TFlop/s]\" value."
      ],
      "metadata": {
        "noteable": {
          "cell_type": "markdown"
        }
      },
      "id": "1651741f-bfc3-41cb-a05c-ef5ab2385bcf"
    },
    {
      "cell_type": "code",
      "source": [
        "scatter = sns.scatterplot(data=data, x=\"Rank\", y=\"Rmax [TFlop/s]\", hue=\"Power (kW)\")\n",
        "plt.yscale('log')"
      ],
      "outputs": [],
      "execution_count": null,
      "metadata": {
        "noteable": {
          "cell_type": "code"
        }
      },
      "id": "c0f978c3-b610-491e-862c-da8c7e56b8ee"
    },
    {
      "cell_type": "markdown",
      "source": [
        "### Exercise 4: Ranking Analysis\n",
        "1. Can you find out what the rankings would be if they were based on \"Energy Efficiency [GFlops/Watts]\"? Write code to sort the data based on that column and replot the rankings.\n",
        "2. Compare the rankings based on \"Rmax [TFlop/s]\" and \"Energy Efficiency [GFlops/Watts]\". What differences do you observe?\n",
        "\n",
        "(Note: You can click on the cell below and write your code and answers!)"
      ],
      "metadata": {
        "noteable": {
          "cell_type": "markdown"
        }
      },
      "id": "472e8792-955f-4dbd-8656-61b9bfb94885"
    },
    {
      "cell_type": "markdown",
      "source": [
        "## Exploring Regions and Vendors\n",
        "Let's explore the distribution of the supercomputers among different countries and manufacturers. We will focus on the top five countries and their corresponding manufacturers."
      ],
      "metadata": {
        "noteable": {
          "cell_type": "markdown"
        }
      },
      "id": "7e45f3c9-b669-41f6-bb12-6df48782e910"
    },
    {
      "cell_type": "code",
      "source": [
        "countries = data.groupby(\"Country\").count()\n",
        "countries.sort_values('Rank', ascending=False)[\"Rank\"].plot(kind=\"bar\")\n",
        "plt.xlabel(\"Country\")\n",
        "plt.ylabel(\"Number of Supercomputers\")"
      ],
      "outputs": [],
      "execution_count": null,
      "metadata": {
        "noteable": {
          "cell_type": "code"
        }
      },
      "id": "04c7acaa-a9dd-4777-acf5-bc84d110cc87"
    },
    {
      "cell_type": "markdown",
      "source": [
        "### Exercise 5: Region Analysis\n",
        "1. Which countries have the most supercomputers in the top 500 list?\n",
        "2. What insights can you gather about the distribution of supercomputers among different regions?\n",
        "\n",
        "(Note: You can click on the cell below and write your answers!)"
      ],
      "metadata": {
        "noteable": {
          "cell_type": "markdown"
        }
      },
      "id": "78cc0da4-2e79-4566-b88d-edd243f7f777"
    },
    {
      "cell_type": "code",
      "source": [
        "top5countries = list(countries.sort_values('Rank', ascending=False).index[:5])\n",
        "top5countrydata = data.loc[data['Country'].isin(top5countries)]\n",
        "\n",
        "sns.swarmplot(data=top5countrydata, x=\"Energy Efficiency [GFlops/Watts]\", y=\"Country\", order=top5countries, size=4)"
      ],
      "outputs": [],
      "execution_count": null,
      "metadata": {
        "noteable": {
          "cell_type": "code"
        }
      },
      "id": "9064fa03-8168-41fb-a516-cf2db2fafb10"
    },
    {
      "cell_type": "markdown",
      "source": [
        "### Exercise 6: Vendor Analysis\n",
        "1. Which manufacturers dominate the top five countries in terms of supercomputer presence?\n",
        "2. How does the distribution of supercomputers vary among different manufacturers within the top five countries?\n",
        "\n",
        "(Note: You can click on the cell below and write your answers!)"
      ],
      "metadata": {
        "noteable": {
          "cell_type": "markdown"
        }
      },
      "id": "0605e6a5-7d68-484e-a4f3-a5190a3ec85c"
    },
    {
      "cell_type": "markdown",
      "source": [
        "## Exploring Energy Efficiency\n",
        "Energy efficiency is a critical aspect of supercomputers. Let's explore how energy efficiency varies among different supercomputers and identify trends and insights."
      ],
      "metadata": {
        "noteable": {
          "cell_type": "markdown"
        }
      },
      "id": "6d592070-41ef-484f-a9bc-2c1089dc77fa"
    },
    {
      "cell_type": "code",
      "source": [
        "scatter_energy_efficiency = sns.scatterplot(data=data, x=\"Rank\", y=\"Energy Efficiency [GFlops/Watts]\", hue=\"Power (kW)\")\n",
        "plt.yscale('log')"
      ],
      "outputs": [],
      "execution_count": null,
      "metadata": {
        "noteable": {
          "cell_type": "code"
        }
      },
      "id": "af1f8e07-f169-45d2-a95e-d4c366f223fe"
    },
    {
      "cell_type": "markdown",
      "source": [
        "### Exercise 7: Energy Efficiency Analysis\n",
        "1. What trends do you observe in the energy efficiency of the top 500 supercomputers?\n",
        "2. How does energy efficiency correlate with other features such as performance and power consumption?\n",
        "\n",
        "(Note: You can click on the cell below and write your answers!)"
      ],
      "metadata": {
        "noteable": {
          "cell_type": "markdown"
        }
      },
      "id": "f1fcba03-4c36-4d86-ab55-80023985b82f"
    },
    {
      "cell_type": "markdown",
      "source": [
        "### Exercise 8: Energy Efficiency Comparison\n",
        "1. Compare the energy efficiency of supercomputers from different countries and manufacturers.\n",
        "2. Identify the top 10 most energy-efficient supercomputers and analyze their characteristics.\n",
        "\n",
        "(Note: You can click on the cell below and write your answers!)"
      ],
      "metadata": {
        "noteable": {
          "cell_type": "markdown"
        }
      },
      "id": "1a35c4f3-876a-4006-8590-30a9dad01405"
    },
    {
      "cell_type": "markdown",
      "source": [
        "## Clean Up Time!\n",
        "Let's clean up some of our data. Cleaning involves removing commas from numeric values and converting them into the appropriate data type.\n",
        "\n",
        "For instance, the value \"500,000,000\" needs to be cleaned to \"500000000\" and then cast into an integer.\n",
        "\n",
        "Python allows us to do this with a lambda function:\n",
        "\n",
        "```python\n",
        "x = lambda x: float(x.replace(',', ''))\n",
        "```\n",
        "\n",
        "Now, apply the above function to each value in a column using the `map` function:\n",
        "\n",
        "```python\n",
        "data[\"Column_Name\"] = data[\"Column_Name\"].map(x)\n",
        "```\n",
        "\n",
        "### Exercise 2: Data Cleaning\n",
        "1. Use the `.notna()` function to drop rows in the dataframe where the \"Energy Efficiency [GFlops/Watts]\" column has missing values.\n",
        "2. Apply the cleaning process to the columns: \"Rmax [TFlop/s]\", \"Rpeak [TFlop/s]\", \"Processor Speed (MHz)\", and \"Power (kW)\".\n",
        "\n",
        "Write your code in the cell below."
      ],
      "metadata": {
        "noteable": {
          "cell_type": "markdown"
        }
      },
      "id": "fed716fb-06e4-4466-8a70-9e18c6ecfba9"
    },
    {
      "cell_type": "markdown",
      "source": [
        "## Exploring the Data\n",
        "Now that our data is cleaned up, let's explore it through visualization. We will start by visualizing the distribution of some important features.\n",
        "\n",
        "### Histograms\n",
        "We will use histograms to see the distributions of \"Power (kW)\" and \"Energy Efficiency [GFlops/Watts]\" columns. Run the code cells below to visualize them."
      ],
      "metadata": {
        "noteable": {
          "cell_type": "markdown"
        }
      },
      "id": "bba606c3-9e48-41a5-aaf0-0d0e41c27716"
    },
    {
      "cell_type": "code",
      "source": [
        "distplt_power = sns.displot(data=data, x=\"Power (kW)\", aspect=16/9)\n",
        "distplt_energy = sns.displot(data=data, x=\"Energy Efficiency [GFlops/Watts]\", aspect=16/9)"
      ],
      "outputs": [],
      "execution_count": null,
      "metadata": {
        "noteable": {
          "cell_type": "code"
        }
      },
      "id": "89f1ed91-2de7-44c4-9055-0fc1c0226bf2"
    },
    {
      "cell_type": "markdown",
      "source": [
        "### Exercise 3: Histogram Analysis\n",
        "Based on the histograms above, can you interpret the distributions of the \"Power (kW)\" and \"Energy Efficiency [GFlops/Watts]\" features? Are there any outliers or patterns that you can identify? Write your observations in the cell below."
      ],
      "metadata": {
        "noteable": {
          "cell_type": "markdown"
        }
      },
      "id": "10a1693e-007d-43a7-a89f-551d3e5ed571"
    },
    {
      "cell_type": "markdown",
      "source": [
        "## Top 500 Ranking\n",
        "The TOP500 list ranks supercomputers based on their performance, specifically the \"Rmax [TFlop/s]\" value. Let's visualize the relationship between the rankings and the \"Rmax [TFlop/s]\" value."
      ],
      "metadata": {
        "noteable": {
          "cell_type": "markdown"
        }
      },
      "id": "4f85b5c7-6146-4a4c-acc8-5be37ba879a1"
    },
    {
      "cell_type": "code",
      "source": [
        "scatter = sns.scatterplot(data=data, x=\"Rank\", y=\"Rmax [TFlop/s]\", hue=\"Power (kW)\")\n",
        "plt.yscale('log')"
      ],
      "outputs": [],
      "execution_count": null,
      "metadata": {
        "noteable": {
          "cell_type": "code"
        }
      },
      "id": "6b0e8b61-8956-417c-bc82-5c6de82f0940"
    },
    {
      "cell_type": "markdown",
      "source": [
        "### Exercise 4: Ranking Analysis\n",
        "Can you find out what the rankings would be if they were based on \"Energy Efficiency [GFlops/Watts]\"? Use the `np.argsort` function to sort the data based on that column and replot the rankings. Write your code in the cell below."
      ],
      "metadata": {
        "noteable": {
          "cell_type": "markdown"
        }
      },
      "id": "4f7ff331-7948-4850-b6a2-e4ec9ea8bebc"
    },
    {
      "cell_type": "markdown",
      "source": [
        "## Exploring Regions and Vendors\n",
        "Let's explore the distribution of the supercomputers among different countries and manufacturers. We will focus on the top five countries and their corresponding manufacturers."
      ],
      "metadata": {
        "noteable": {
          "cell_type": "markdown"
        }
      },
      "id": "360e9131-08f9-47e5-bd1d-7e0ea173fea2"
    },
    {
      "cell_type": "code",
      "source": [
        "countries = data.groupby(\"Country\").count()\n",
        "countries.sort_values('Rank', ascending=False)[\"Rank\"].plot(kind=\"bar\")\n",
        "plt.xlabel(\"Country\")\n",
        "plt.ylabel(\"Number of Supercomputers\")"
      ],
      "outputs": [],
      "execution_count": null,
      "metadata": {
        "noteable": {
          "cell_type": "code"
        }
      },
      "id": "d236bfd6-b512-4875-b3e6-fc71839f9f90"
    },
    {
      "cell_type": "markdown",
      "source": [
        "### Exercise 5: Country Analysis\n",
        "Based on the bar chart above, can you identify the top five countries with the most supercomputers? Write your observations in the cell below."
      ],
      "metadata": {
        "noteable": {
          "cell_type": "markdown"
        }
      },
      "id": "89bcf3ea-5a0e-4d8b-aa01-43b05edad081"
    },
    {
      "cell_type": "markdown",
      "source": [
        "Now, we will deep dive into the top five countries and visualize the relationship between their rankings and energy efficiency."
      ],
      "metadata": {
        "noteable": {
          "cell_type": "markdown"
        }
      },
      "id": "e0f24f4a-1094-4aaf-b952-c8b76d0a2874"
    },
    {
      "cell_type": "code",
      "source": [
        "top5countries = list(countries.sort_values('Rank', ascending=False).index[:5])\n",
        "top5countrydata = data.loc[data['Country'].isin(top5countries)]\n",
        "\n",
        "sns.swarmplot(data=top5countrydata, x=\"Energy Efficiency [GFlops/Watts]\", y=\"Country\", order=top5countries, size=4)"
      ],
      "outputs": [],
      "execution_count": null,
      "metadata": {
        "noteable": {
          "cell_type": "code"
        }
      },
      "id": "c7eb1325-dbf6-4694-8a04-e441c6cd3530"
    },
    {
      "cell_type": "markdown",
      "source": [
        "## Preparing the Data for Analysis\n",
        "Before we dive into analysis, let's take a moment to look at the data. We need to handle missing values and convert certain columns to the appropriate data types."
      ],
      "metadata": {
        "noteable": {
          "cell_type": "markdown"
        }
      },
      "id": "135abfe8-5408-4393-9b3b-1f8ad265d322"
    },
    {
      "cell_type": "markdown",
      "source": [
        "### Exercise 6: Energy Efficiency Analysis\n",
        "Based on the swarm plot above, can you identify any patterns or insights about the energy efficiency of supercomputers in the top five countries? Write your observations in the cell below."
      ],
      "metadata": {
        "noteable": {
          "cell_type": "markdown"
        }
      },
      "id": "7a430211-7100-4c99-ae9b-87edcf0f05f4"
    },
    {
      "cell_type": "markdown",
      "source": [
        "Next, let's explore the vendors in these top five countries."
      ],
      "metadata": {
        "noteable": {
          "cell_type": "markdown"
        }
      },
      "id": "253c818e-e150-4263-9f3a-ea6cb1235581"
    },
    {
      "cell_type": "markdown",
      "source": [
        "### Exercise 2: Data Cleaning\n",
        "In this exercise, you will clean specific columns by removing commas and converting them to the correct data type.\n",
        "\n",
        "1. Write a lambda function to remove commas from a string and convert it to a float.\n",
        "2. Apply the lambda function to the columns: \"Rmax [TFlop/s]\", \"Rpeak [TFlop/s]\", \"Processor Speed (MHz)\", and \"Power (kW)\".\n",
        "3. Use the `.notna()` function to drop rows in the dataframe where the \"Energy Efficiency [GFlops/Watts]\" column has missing values.\n",
        "\n",
        "Write your code in the cell below:"
      ],
      "metadata": {
        "noteable": {
          "cell_type": "markdown"
        }
      },
      "id": "7d35da36-97ee-42f7-9d3b-6dff67ffd11c"
    },
    {
      "cell_type": "code",
      "source": [
        "vendors = top5countrydata.groupby(\"Manufacturer\").count()\n",
        "top5vendors = list(vendors.sort_values('Rank', ascending=False).index[:5])\n",
        "top5vendata = data.loc[data['Manufacturer'].isin(top5vendors)]\n",
        "\n",
        "sns.swarmplot(data=top5vendata, x=\"Energy Efficiency [GFlops/Watts]\", y=\"Country\", order=top5countries, size=4, hue=\"Manufacturer\")"
      ],
      "outputs": [],
      "execution_count": null,
      "metadata": {
        "noteable": {
          "cell_type": "code"
        }
      },
      "id": "aa0e96b7-d4b5-4f28-a2e1-12ef367151bd"
    },
    {
      "cell_type": "markdown",
      "source": [
        "### Exercise 7: Vendor Analysis\n",
        "Based on the swarm plot above, can you identify any patterns or insights about the energy efficiency of supercomputers from different manufacturers in the top five countries? Write your observations in the cell below."
      ],
      "metadata": {
        "noteable": {
          "cell_type": "markdown"
        }
      },
      "id": "6ab8c46e-a1f8-4816-8699-4ba218022581"
    },
    {
      "cell_type": "markdown",
      "source": [
        "## Exploring the Data\n",
        "Now that our data is cleaned up, let's explore it through visualization. We will start by visualizing the distribution of some important features.\n",
        "\n",
        "### Histograms\n",
        "We will use histograms to see the distributions of \"Power (kW)\" and \"Energy Efficiency [GFlops/Watts]\" columns. Run the code cells below to visualize them."
      ],
      "metadata": {
        "noteable": {
          "cell_type": "markdown"
        }
      },
      "id": "1584899b-24d8-4f84-9af3-981586aa7267"
    },
    {
      "cell_type": "markdown",
      "source": [
        "## Conclusion\n",
        "We have explored the data of the top 500 supercomputers, cleaned it, and visualized various aspects of the systems. You can continue the analysis further and discover exciting insights about these impressive machines!\n",
        "\n",
        "### Exercise 8: Further Analysis\n",
        "Based on what you've learned in this notebook, can you come up with a new analysis or visualization that could provide further insights into the data? Write your code in the cell below."
      ],
      "metadata": {
        "noteable": {
          "cell_type": "markdown"
        }
      },
      "id": "e8f2733d-5b88-47e1-8c63-3317b156369f"
    },
    {
      "cell_type": "code",
      "source": [
        "distplt_power = sns.displot(data=data, x=\"Power (kW)\", aspect=16/9)\n",
        "distplt_energy = sns.displot(data=data, x=\"Energy Efficiency [GFlops/Watts]\", aspect=16/9)"
      ],
      "outputs": [],
      "execution_count": null,
      "metadata": {
        "noteable": {
          "cell_type": "code"
        }
      },
      "id": "617c4b94-0729-442f-9a2f-d5dc99f803f5"
    },
    {
      "cell_type": "markdown",
      "source": [
        "### Exercise 3: Histogram Analysis\n",
        "Based on the histograms above, can you interpret the distributions of \"Power (kW)\" and \"Energy Efficiency [GFlops/Watts]\" columns? Identify any outliers or patterns and write your observations in the cell below."
      ],
      "metadata": {
        "noteable": {
          "cell_type": "markdown"
        }
      },
      "id": "1742f481-2c0a-43cd-9369-764cbe8e79a2"
    },
    {
      "cell_type": "markdown",
      "source": [
        "## Top 500 Ranking\n",
        "The TOP500 list ranks supercomputers based on their performance, specifically the \"Rmax [TFlop/s]\" value. Let's visualize the relationship between the rankings and the \"Rmax [TFlop/s]\" value."
      ],
      "metadata": {
        "noteable": {
          "cell_type": "markdown"
        }
      },
      "id": "960bbe07-9d49-477a-b530-67883e16aff2"
    },
    {
      "cell_type": "code",
      "source": [
        "scatter = sns.scatterplot(data=data, x=\"Rank\", y=\"Rmax [TFlop/s]\", hue=\"Power (kW)\")\n",
        "plt.yscale('log')"
      ],
      "outputs": [],
      "execution_count": null,
      "metadata": {
        "noteable": {
          "cell_type": "code"
        }
      },
      "id": "d4829e6c-1fca-4b40-b31a-deaf4f31c884"
    },
    {
      "cell_type": "markdown",
      "source": [
        "### Exercise 4: Ranking Analysis\n",
        "Can you find out what the rankings would be if they were based on \"Energy Efficiency [GFlops/Watts]\"? Write the code to sort the data based on that column and replot the rankings. Share your observations on how the rankings change when based on energy efficiency."
      ],
      "metadata": {
        "noteable": {
          "cell_type": "markdown"
        }
      },
      "id": "f86de14a-2499-4620-b9b3-405641cd67d7"
    },
    {
      "cell_type": "markdown",
      "source": [
        "## Exploring Regions and Vendors\n",
        "Let's explore the distribution of the supercomputers among different countries and manufacturers. We will focus on the top five countries and their corresponding manufacturers."
      ],
      "metadata": {
        "noteable": {
          "cell_type": "markdown"
        }
      },
      "id": "1ecd541f-c0a0-4b13-98fc-8ed4960333ad"
    },
    {
      "cell_type": "code",
      "source": [
        "countries = data.groupby(\"Country\").count()\n",
        "countries.sort_values('Rank', ascending=False)[\"Rank\"].plot(kind=\"bar\")\n",
        "plt.xlabel(\"Country\")\n",
        "plt.ylabel(\"Number of Supercomputers\")"
      ],
      "outputs": [],
      "execution_count": null,
      "metadata": {
        "noteable": {
          "cell_type": "code"
        }
      },
      "id": "598f4490-4026-440f-99e1-c9ad1d8c4d51"
    },
    {
      "cell_type": "markdown",
      "source": [
        "### Exercise 5: Country Analysis\n",
        "Based on the bar chart above, can you identify the top 10 countries with the most supercomputers? Write the code to extract this information and visualize the results using a pie chart or another suitable visualization. Share your observations on the distribution of supercomputers among the top 10 countries."
      ],
      "metadata": {
        "noteable": {
          "cell_type": "markdown"
        }
      },
      "id": "36ce3915-ec5d-4fd2-8b06-c8ddf65f0c90"
    },
    {
      "cell_type": "code",
      "source": [
        "top5countries = list(countries.sort_values('Rank', ascending=False).index[:5])\n",
        "top5countrydata = data.loc[data['Country'].isin(top5countries)]\n",
        "\n",
        "sns.swarmplot(data=top5countrydata, x=\"Energy Efficiency [GFlops/Watts]\", y=\"Country\", order=top5countries, size=4)"
      ],
      "outputs": [],
      "execution_count": null,
      "metadata": {
        "noteable": {
          "cell_type": "code"
        }
      },
      "id": "f6ec65fd-0794-4ed8-9a90-bc6a6aa17407"
    },
    {
      "cell_type": "markdown",
      "source": [
        "### Exercise 6: Vendor Analysis\n",
        "Now, let's explore the vendors in these top five countries.\n",
        "\n",
        "1. Write code to group the data by \"Manufacturer\" and count the number of supercomputers for each manufacturer in the top five countries.\n",
        "2. Identify and visualize the top 5 manufacturers in these countries using a suitable plot.\n",
        "3. Share your observations on the distribution of supercomputers among the top manufacturers."
      ],
      "metadata": {
        "noteable": {
          "cell_type": "markdown"
        }
      },
      "id": "f46f7483-25c5-44fa-882e-708b956a061d"
    },
    {
      "cell_type": "markdown",
      "source": [
        "## Exploring Energy Efficiency\n",
        "Energy efficiency is a crucial aspect of supercomputing. Let's deep dive into the top five countries and visualize the relationship between their rankings and energy efficiency."
      ],
      "metadata": {
        "noteable": {
          "cell_type": "markdown"
        }
      },
      "id": "eb7f46ee-711a-4a45-9753-c9cb87aeb2b1"
    },
    {
      "cell_type": "code",
      "source": [
        "sns.swarmplot(data=top5countrydata, x=\"Energy Efficiency [GFlops/Watts]\", y=\"Country\", order=top5countries, size=4)"
      ],
      "outputs": [],
      "execution_count": null,
      "metadata": {
        "noteable": {
          "cell_type": "code"
        }
      },
      "id": "6500190b-4c95-453a-9daf-ba63321fdf42"
    },
    {
      "cell_type": "markdown",
      "source": [
        "### Exercise 7: Energy Efficiency Analysis\n",
        "Based on the swarm plot above, analyze the energy efficiency of the top five countries.\n",
        "\n",
        "1. Identify the country with the highest and lowest energy efficiency.\n",
        "2. Write code to calculate the average energy efficiency for each of the top five countries.\n",
        "3. Visualize the average energy efficiency using a suitable plot.\n",
        "4. Share your insights on how energy efficiency varies among the top five countries."
      ],
      "metadata": {
        "noteable": {
          "cell_type": "markdown"
        }
      },
      "id": "64c9469b-c728-4cfe-b47b-90be6f9d4594"
    },
    {
      "cell_type": "markdown",
      "source": [
        "## Conclusion\n",
        "We have explored the data of the top 500 supercomputers, cleaned it, and visualized various aspects of the systems. You can continue the analysis further and discover exciting insights about these impressive machines!"
      ],
      "metadata": {
        "noteable": {
          "cell_type": "markdown"
        }
      },
      "id": "3e299c6d-7fbe-4948-ab08-1fce429f1c1a"
    },
    {
      "cell_type": "markdown",
      "source": [
        "### Exercise 8: Further Exploration\n",
        "Now that you have analyzed various aspects of the top 500 supercomputers, it's time to apply your knowledge and creativity.\n",
        "\n",
        "1. Choose an aspect of the data that interests you (e.g., a specific country, manufacturer, or performance metric).\n",
        "2. Formulate a question or hypothesis related to that aspect.\n",
        "3. Write code to analyze the data and answer your question or test your hypothesis.\n",
        "4. Visualize the results using appropriate plots.\n",
        "5. Write a brief conclusion summarizing your findings and insights.\n",
        "\n",
        "Feel free to use all the tools and techniques you've learned in this notebook. Happy exploring!"
      ],
      "metadata": {
        "noteable": {
          "cell_type": "markdown"
        }
      },
      "id": "1073d306-3222-4b4a-a258-7417098d7c1a"
    }
  ],
  "metadata": {
    "noteable-chatgpt": {
      "create_notebook": {
        "openai_conversation_id": "0e8ba553-d2e5-5c23-981d-2f0b8ff7fa6e",
        "openai_ephemeral_user_id": "dbfcc28d-4fe1-5308-a9a4-2e3a2f9f7dcc",
        "openai_subdivision1_iso_code": "US-GA"
      }
    },
    "kernel_info": {
      "name": "python3"
    },
    "noteable": {
      "last_transaction_id": "a2bdb326-2be7-4605-9129-efca14914f7c",
      "last_delta_id": "a2bdb326-2be7-4605-9129-efca14914f7c"
    },
    "kernelspec": {
      "display_name": "Python 3.9",
      "language": "python",
      "name": "python3"
    },
    "selected_hardware_size": "small",
    "nteract": {
      "version": "noteable@2.9.0"
    }
  },
  "nbformat": 4,
  "nbformat_minor": 5
}