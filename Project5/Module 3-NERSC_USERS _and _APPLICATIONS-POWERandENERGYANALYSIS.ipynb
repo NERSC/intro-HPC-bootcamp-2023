{
  "cells": [
    {
      "cell_type": "markdown",
      "source": "# Module 3 Notebook: NERSC USERS and APPLICATION POWER and ENERGY ANALYSIS\n![HPC Analysis](https://images.unsplash.com/photo-1542744173-05336fcc7ad4?crop=entropy&cs=tinysrgb&fit=max&fm=jpg&ixid=M3w0NDgzMDl8MHwxfHNlYXJjaHwxfHxkYXRhJTIwYW5hbHlzaXMlMjBrZXklMjBmaW5kaW5nc3xlbnwwfHx8fDE2OTA5NTY5MTB8MA&ixlib=rb-4.0.3&q=80&w=400)\nThis notebook provides analysis tools of High-Performance Computing (HPC) power and energy consumption based on user projects that are active on PERLMUTTER at NERSC. The analysis focuses on various aspects such as active users, top projects, GPU utilization, and more.\n![HPC Analysis](https://www.nersc.gov/_resources/themes/nersc-sass/images/logo.png)\nThe National Energy Research Scientific Computing Center (NERSC) is the primary scientific computing facility for the Office of Science in the U.S. Department of Energy. As one of the largest facilities of its kind in the world, NERSC supports large-scale science projects by providing supercomputing resources to researchers.",
      "metadata": {
        "noteable": {
          "cell_type": "markdown"
        },
        "tags": [
          "show_line_numbers"
        ]
      },
      "id": "124db2c1-a412-492e-a89e-91632fc874c9"
    },
    {
      "cell_type": "markdown",
      "source": "# Exploring the World of Data with Visual Flair 📊\n\n![Data Exploration](https://images.unsplash.com/photo-1551288049-bebda4e38f71?crop=entropy&cs=tinysrgb&fit=max&fm=jpg&ixid=M3w0NDgzMDl8MHwxfHNlYXJjaHw0fHxkYXRhJTIwZXhwbG9yYXRpb258ZW58MHx8fHwxNjkwOTU3NjgxfDA&ixlib=rb-4.0.3&q=80&w=400)\n\nWelcome to our data exploration journey! In this notebook, we'll be diving into a fascinating dataset, uncovering insights, patterns, and stories hidden within the numbers. But worry not, we won't be alone on this adventure. We have some of the most powerful Python libraries by our side:\n\n- **Pandas**: Our trusty data manipulation tool, capable of slicing and dicing the data just the way we want it.\n- **NumPy**: The mathematical wizard, handling all the numerical operations with ease and grace.\n- **Matplotlib**: The artist of the group, painting our insights in the form of beautiful and informative plots.\n- **Seaborn**: Matplotlib's sophisticated sibling, adding a touch of elegance and simplicity to our visualizations.\n\nTogether, these tools will help us unravel the mysteries within our data. We'll start by setting a clean and crisp style for our plots, thanks to Seaborn's 'whitegrid'. Then, we'll read in our data file (don't forget to upload it or provide the path), and take a sneak peek at the first few rows.\n\nReady to embark on this exciting exploration? Let's dive in! 🚀\n",
      "metadata": {
        "noteable": {
          "cell_type": "markdown"
        },
        "tags": [
          "show_line_numbers"
        ]
      },
      "id": "6b5100c5-1878-4ed7-9051-e403b106117c"
    },
    {
      "cell_type": "code",
      "source": [
        "import pandas as pd\n",
        "import numpy as np\n",
        "import matplotlib.pyplot as plt\n",
        "import seaborn as sns\n",
        "\n",
        "# Setting the style for the plots\n",
        "sns.set_style('whitegrid')\n",
        "\n",
        "# Reading the data (please upload the file or provide the path)\n",
        "# data = pd.read_csv('path_to_file.csv')\n",
        "\n",
        "# Displaying the first few rows of the data\n",
        "# data.head()"
      ],
      "outputs": [],
      "execution_count": null,
      "metadata": {
        "noteable": {
          "cell_type": "code",
          "output_collection_id": "845d5db3-fa6e-4508-a0e0-a3576dcf5a11"
        },
        "tags": [
          "show_line_numbers"
        ],
        "ExecuteTime": {
          "end_time": "2023-08-06T23:49:31.043126+00:00",
          "start_time": "2023-08-06T23:49:30.182730+00:00"
        }
      },
      "id": "f5c00852-0bdc-4a74-9daf-8d8117629d0b"
    },
    {
      "cell_type": "code",
      "source": "# Sample data\ndata_sample = '''\nUser Name,Organization,Organization Type,Organization Country,Is Active,CPU Compute Allocation,CPU Node Hours Charged,GPU Compute Allocation,GPU Node Hours Charged,PI Name,Project Description,Department,Organization City\nu232,Auburn University,UNIV,United States of America,True,23399.0,2426.4169444444447,150.0,0.0,Michael Pindzola,Computational Atomic and Molecular Physics for Fusion Energy Sciences,Department of Physics,Auburn\nu344,CompX - Computational Modeling and Software Development,SMBUS,United States of America,True,5000.0,0.0,7500.0,0.0,Jin Myung Park,AToM-2 SciDAC - Advanced Tokamak Modeling Environment,Fusion Theory,Del Mar\nu431,Princeton Plasma Physics Laboratory (PPPL),DOELAB,United States of America,True,81000.0,13781.63361111111,10075.0,1.1616666666666666,Stephen Jardin,3D Extended MHD simulation of fusion plasmas,Theory and Computation,Princeton\nu460,Princeton Plasma Physics Laboratory (PPPL),DOELAB,United States of America,True,0.0,0.0,100.0,0.0,Richard Gerber,NERSC overhead account for users with no active repo,,Princeton\nu617,Pacific Northwest National Laboratory (PNNL),DOELAB,United States of America,True,15170.3,0.0,29525.0,0.0,Sotiris Xantheas,\"Guest-host interactions in the gas phase, in aqueous systems and hydrate lattices\",\"Advanced Computing, Mathematics and Data\",Richland\nu650,CompX - Computational Modeling and Software Development,SMBUS,United States of America,True,42800.0,0.0,11925.0,0.0,Paul Bonoli,Center for Integrated Simulation of Fusion Relevant RF Actuators: SciDAC Project,Fusion,Del Mar\nu1103,University of Alaska Fairbanks,UNIV,United States of America,True,2062.5,0.0,15075.0,0.0,Jean-Noel Leboeuf,Gyrokinetic Studies of Non-Diffusive Transport,Department of Physics,Fairbanks\nu1165,University of Maryland,UNIV,United States of America,True,1000.0,0.0,2500.0,0.0,William Dorland,\"Turbulence, Transport and Magnetic Reconnection in High Temperature Plasma\",,College Park\nu70270,Lawrence Berkeley National Laboratory,DOELAB,United States of America,True,85.45555555555555,0.0,7.5,0.0,C. William McCurdy,Electron and Photon Collisions with Atoms and Molecules,Chemistry,Berkeley\nu1446,Oak Ridge National Laboratory,DOELAB,United States of America,True,2000.0,0.0,2500.0,0.0,Jin Myung Park,AToM-2 SciDAC - Advanced Tokamak Modeling Environment,Fusion Energy Division,Oak Ridge\n'''\n\n# Converting the sample data to a DataFrame\n# Reading data from the CSV file\nfile_path = 'data/NERSC_User_Data_202307.csv'\ndata = pd.read_csv(file_path)\n\n# Displaying the first few rows of the data\nprint(\"First few rows of the data:\")\nprint(data.head())\n\n# Displaying column information for analyzing and visualization\nprint(\"\\nColumn information:\")\nprint(data.info())\n\n# Displaying summary statistics for numeric columns\nprint(\"\\nSummary statistics for numeric columns:\")\nprint(data.describe())",
      "outputs": [],
      "execution_count": null,
      "metadata": {
        "noteable": {
          "cell_type": "code",
          "output_collection_id": "7d512ad6-f561-4459-b380-b4056a2c071d"
        },
        "tags": [
          "show_line_numbers"
        ],
        "ExecuteTime": {
          "end_time": "2023-08-07T07:25:38.785853+00:00",
          "start_time": "2023-08-07T07:25:38.539574+00:00"
        }
      },
      "id": "69a6f897-808d-4664-b864-46cbeb9b0fb7"
    },
    {
      "cell_type": "markdown",
      "source": [
        "## Overview of the Dataset\n",
        "Let's start by getting an overview of the dataset. We'll explore the basic statistics, data types, and null values in the dataset. This will give us a good understanding of the data we're working with."
      ],
      "metadata": {
        "noteable": {
          "cell_type": "markdown"
        },
        "tags": [
          "show_line_numbers"
        ]
      },
      "id": "1c6597fd-f97f-4998-b61c-a0076150516b"
    },
    {
      "cell_type": "code",
      "source": [
        "# Basic statistics of the dataset\n",
        "data_description = data.describe()\n",
        "data_description"
      ],
      "outputs": [],
      "execution_count": null,
      "metadata": {
        "noteable": {
          "cell_type": "code",
          "output_collection_id": "75851c72-6497-4cfd-94e9-fd626b47dd5a"
        },
        "tags": [
          "show_line_numbers"
        ],
        "ExecuteTime": {
          "end_time": "2023-08-07T07:25:50.632519+00:00",
          "start_time": "2023-08-07T07:25:50.415704+00:00"
        },
        "datalink": {
          "a6914cd5-a9af-4629-a774-e8ab20b236a8": {
            "applied_filters": [],
            "dataframe_info": {
              "default_index_used": false,
              "orig_num_cols": 5,
              "orig_num_rows": 8,
              "orig_size_bytes": 384,
              "truncated_num_cols": 5,
              "truncated_num_rows": 8,
              "truncated_size_bytes": 384,
              "truncated_string_columns": []
            },
            "display_id": "a6914cd5-a9af-4629-a774-e8ab20b236a8",
            "dx_settings": {
              "ALLOW_NOTEABLE_ATTRS": true,
              "COLUMN_SAMPLING_METHOD": "outer",
              "DB_LOCATION": ":memory:",
              "DEV_MODE": false,
              "DISPLAY_MAX_COLUMNS": 100,
              "DISPLAY_MAX_ROWS": 50000,
              "DISPLAY_MODE": "simple",
              "ENABLE_ASSIGNMENT": true,
              "ENABLE_DATALINK": true,
              "FLATTEN_COLUMN_VALUES": true,
              "FLATTEN_INDEX_VALUES": false,
              "GENERATE_DEX_METADATA": false,
              "HTML_TABLE_SCHEMA": false,
              "LOG_LEVEL": 30,
              "MAX_RENDER_SIZE_BYTES": 104857600,
              "MAX_STRING_LENGTH": 250,
              "NUM_PAST_SAMPLES_TRACKED": 3,
              "RANDOM_STATE": 12648430,
              "RESET_INDEX_VALUES": false,
              "ROW_SAMPLING_METHOD": "random",
              "SAMPLING_FACTOR": 0.1,
              "SAMPLING_METHOD": "random",
              "STRINGIFY_COLUMN_VALUES": true,
              "STRINGIFY_INDEX_VALUES": false
            },
            "sample_history": [],
            "sampling_time": "2023-08-07T07:25:50.473860",
            "user_variable_name": "data_description",
            "variable_name": "data_description"
          }
        }
      },
      "id": "dfa081a0-3246-4d07-9e71-52308120e209"
    },
    {
      "cell_type": "code",
      "source": [
        "# Data types of the columns\n",
        "data_types = data.dtypes\n",
        "data_types"
      ],
      "outputs": [],
      "execution_count": null,
      "metadata": {
        "noteable": {
          "cell_type": "code",
          "output_collection_id": "b3438db0-cc4e-416b-b80a-44f9799b9c65"
        },
        "tags": [
          "show_line_numbers"
        ],
        "ExecuteTime": {
          "end_time": "2023-08-07T07:25:55.336647+00:00",
          "start_time": "2023-08-07T07:25:55.126722+00:00"
        },
        "datalink": {
          "4ae36f52-e35c-466a-84e4-d22ed4d6e498": {
            "applied_filters": [],
            "dataframe_info": {
              "default_index_used": false,
              "orig_num_cols": 1,
              "orig_num_rows": 14,
              "orig_size_bytes": 224,
              "truncated_num_cols": 1,
              "truncated_num_rows": 14,
              "truncated_size_bytes": 224,
              "truncated_string_columns": []
            },
            "display_id": "4ae36f52-e35c-466a-84e4-d22ed4d6e498",
            "dx_settings": {
              "ALLOW_NOTEABLE_ATTRS": true,
              "COLUMN_SAMPLING_METHOD": "outer",
              "DB_LOCATION": ":memory:",
              "DEV_MODE": false,
              "DISPLAY_MAX_COLUMNS": 100,
              "DISPLAY_MAX_ROWS": 50000,
              "DISPLAY_MODE": "simple",
              "ENABLE_ASSIGNMENT": true,
              "ENABLE_DATALINK": true,
              "FLATTEN_COLUMN_VALUES": true,
              "FLATTEN_INDEX_VALUES": false,
              "GENERATE_DEX_METADATA": false,
              "HTML_TABLE_SCHEMA": false,
              "LOG_LEVEL": 30,
              "MAX_RENDER_SIZE_BYTES": 104857600,
              "MAX_STRING_LENGTH": 250,
              "NUM_PAST_SAMPLES_TRACKED": 3,
              "RANDOM_STATE": 12648430,
              "RESET_INDEX_VALUES": false,
              "ROW_SAMPLING_METHOD": "random",
              "SAMPLING_FACTOR": 0.1,
              "SAMPLING_METHOD": "random",
              "STRINGIFY_COLUMN_VALUES": true,
              "STRINGIFY_INDEX_VALUES": false
            },
            "sample_history": [],
            "sampling_time": "2023-08-07T07:25:55.179505",
            "user_variable_name": null,
            "variable_name": "unk_dataframe_0bb37bf91b9e42fdab7c781ef550afb7"
          }
        }
      },
      "id": "87b1eb92-457c-4df3-9af0-de7213ef5e70"
    },
    {
      "cell_type": "code",
      "source": [
        "# Checking for missing values\n",
        "missing_values = data.isnull().sum()\n",
        "missing_values"
      ],
      "outputs": [],
      "execution_count": null,
      "metadata": {
        "noteable": {
          "cell_type": "code",
          "output_collection_id": "2c83bd01-1d30-4fbc-9ec5-d848fec4b09e"
        },
        "tags": [
          "show_line_numbers"
        ],
        "ExecuteTime": {
          "end_time": "2023-08-07T07:26:07.838281+00:00",
          "start_time": "2023-08-07T07:26:07.630934+00:00"
        },
        "datalink": {
          "f791e96f-745c-42b5-a7f3-ff47fefdb1c6": {
            "applied_filters": [],
            "dataframe_info": {
              "default_index_used": false,
              "orig_num_cols": 1,
              "orig_num_rows": 14,
              "orig_size_bytes": 224,
              "truncated_num_cols": 1,
              "truncated_num_rows": 14,
              "truncated_size_bytes": 224,
              "truncated_string_columns": []
            },
            "display_id": "f791e96f-745c-42b5-a7f3-ff47fefdb1c6",
            "dx_settings": {
              "ALLOW_NOTEABLE_ATTRS": true,
              "COLUMN_SAMPLING_METHOD": "outer",
              "DB_LOCATION": ":memory:",
              "DEV_MODE": false,
              "DISPLAY_MAX_COLUMNS": 100,
              "DISPLAY_MAX_ROWS": 50000,
              "DISPLAY_MODE": "simple",
              "ENABLE_ASSIGNMENT": true,
              "ENABLE_DATALINK": true,
              "FLATTEN_COLUMN_VALUES": true,
              "FLATTEN_INDEX_VALUES": false,
              "GENERATE_DEX_METADATA": false,
              "HTML_TABLE_SCHEMA": false,
              "LOG_LEVEL": 30,
              "MAX_RENDER_SIZE_BYTES": 104857600,
              "MAX_STRING_LENGTH": 250,
              "NUM_PAST_SAMPLES_TRACKED": 3,
              "RANDOM_STATE": 12648430,
              "RESET_INDEX_VALUES": false,
              "ROW_SAMPLING_METHOD": "random",
              "SAMPLING_FACTOR": 0.1,
              "SAMPLING_METHOD": "random",
              "STRINGIFY_COLUMN_VALUES": true,
              "STRINGIFY_INDEX_VALUES": false
            },
            "sample_history": [],
            "sampling_time": "2023-08-07T07:26:07.681794",
            "user_variable_name": null,
            "variable_name": "unk_dataframe_8a941cc4508440628dda0ffe05a40738"
          }
        }
      },
      "id": "b007a90b-ff3d-407b-8cd7-7f94f33c6b50"
    },
    {
      "cell_type": "markdown",
      "source": [
        "## Distribution of Numerical Columns\n",
        "We will visualize the distribution of numerical columns using histograms. This will help us understand the range and distribution of values in these columns."
      ],
      "metadata": {
        "noteable": {
          "cell_type": "markdown"
        },
        "tags": [
          "show_line_numbers"
        ]
      },
      "id": "ed65edbe-24d0-4e69-adee-f4ce89907c57"
    },
    {
      "cell_type": "code",
      "source": "import pandas as pd\nimport numpy as np\nimport matplotlib.pyplot as plt\nimport seaborn as sns\n# Plotting histograms for numerical columns\nnumerical_columns = ['CPU Compute Allocation', 'CPU Node Hours Charged', 'GPU Compute Allocation', 'GPU Node Hours Charged']\nfor column in numerical_columns:\n    plt.figure(figsize=(10, 6))\n    sns.histplot(data[column], bins=20, kde=True)\n    plt.title(f'Distribution of {column}')\n    plt.xlabel(column)\n    plt.ylabel('Frequency')\n    plt.show()",
      "outputs": [],
      "execution_count": null,
      "metadata": {
        "noteable": {
          "cell_type": "code",
          "output_collection_id": "2f26607d-a8d0-4e8b-ae92-5b2cd99068f1"
        },
        "tags": [
          "show_line_numbers"
        ],
        "ExecuteTime": {
          "end_time": "2023-08-07T07:28:21.831482+00:00",
          "start_time": "2023-08-07T07:28:19.309410+00:00"
        }
      },
      "id": "5b82e9ba-5865-4d52-b55a-bffcfca7c47c"
    },
    {
      "cell_type": "markdown",
      "source": [
        "## Distribution of Categorical Columns\n",
        "We will explore the distribution of categorical columns such as 'Organization Type', 'Organization Country', and 'Is Active'. Understanding the distribution of these categories will provide insights into the composition of the dataset."
      ],
      "metadata": {
        "noteable": {
          "cell_type": "markdown"
        },
        "tags": [
          "show_line_numbers"
        ]
      },
      "id": "1a15448f-00e8-4c04-bc2a-cea6f6cf3482"
    },
    {
      "cell_type": "code",
      "source": [
        "# Plotting bar plots for categorical columns\n",
        "categorical_columns = ['Organization Type', 'Organization Country', 'Is Active']\n",
        "for column in categorical_columns:\n",
        "    plt.figure(figsize=(10, 6))\n",
        "    sns.countplot(data=data, x=column, order=data[column].value_counts().index)\n",
        "    plt.title(f'Distribution of {column}')\n",
        "    plt.xlabel(column)\n",
        "    plt.ylabel('Count')\n",
        "    plt.xticks(rotation=45)\n",
        "    plt.show()"
      ],
      "outputs": [],
      "execution_count": null,
      "metadata": {
        "noteable": {
          "cell_type": "code",
          "output_collection_id": "8798c01d-3d3c-4a3b-a02f-6c4fa94fc514"
        },
        "tags": [
          "show_line_numbers"
        ],
        "ExecuteTime": {
          "end_time": "2023-08-07T07:28:31.080319+00:00",
          "start_time": "2023-08-07T07:28:29.522190+00:00"
        }
      },
      "id": "246461e4-b8aa-4a20-baca-4be80f3da298"
    },
    {
      "cell_type": "markdown",
      "source": [
        "## Analyzing Relationships Between Variables\n",
        "We will analyze the relationships between different variables in the dataset. This includes exploring correlations between numerical variables and understanding how different factors such as organization type and country influence compute allocations."
      ],
      "metadata": {
        "noteable": {
          "cell_type": "markdown"
        },
        "tags": [
          "show_line_numbers"
        ]
      },
      "id": "eace0e63-4a5e-49c5-8f42-486258c7b93c"
    },
    {
      "cell_type": "code",
      "source": [
        "# Correlation matrix for numerical variables\n",
        "correlation_matrix = data[numerical_columns].corr()\n",
        "\n",
        "# Plotting the correlation matrix\n",
        "plt.figure(figsize=(12, 8))\n",
        "sns.heatmap(correlation_matrix, annot=True, cmap='coolwarm')\n",
        "plt.title('Correlation Matrix for Numerical Variables')\n",
        "plt.show()"
      ],
      "outputs": [],
      "execution_count": null,
      "metadata": {
        "noteable": {
          "cell_type": "code",
          "output_collection_id": "bd3c5a27-23b8-4c7d-a0fb-94a5a9e10179"
        },
        "tags": [
          "show_line_numbers"
        ],
        "ExecuteTime": {
          "end_time": "2023-08-07T07:28:37.074098+00:00",
          "start_time": "2023-08-07T07:28:36.481482+00:00"
        }
      },
      "id": "2bdb3f5b-2e1c-467c-b3dc-613bc819a467"
    },
    {
      "cell_type": "markdown",
      "source": [
        "### Compute Allocations by Organization Type\n",
        "We will visualize the CPU and GPU compute allocations across different organization types. This will help us understand how resources are allocated among various types of organizations."
      ],
      "metadata": {
        "noteable": {
          "cell_type": "markdown"
        },
        "tags": [
          "show_line_numbers"
        ]
      },
      "id": "03494e54-544f-4668-a8a7-e8ebfbc559ad"
    },
    {
      "cell_type": "code",
      "source": [
        "# Plotting CPU and GPU compute allocations by organization type\n",
        "plt.figure(figsize=(14, 6))\n",
        "sns.barplot(x='Organization Type', y='CPU Compute Allocation', data=data, ci=None, color='blue', alpha=0.6, label='CPU Allocation')\n",
        "sns.barplot(x='Organization Type', y='GPU Compute Allocation', data=data, ci=None, color='green', alpha=0.6, label='GPU Allocation')\n",
        "plt.title('Compute Allocations by Organization Type')\n",
        "plt.xlabel('Organization Type')\n",
        "plt.ylabel('Compute Allocation')\n",
        "plt.legend()\n",
        "plt.xticks(rotation=45)\n",
        "plt.show()"
      ],
      "outputs": [],
      "execution_count": null,
      "metadata": {
        "noteable": {
          "cell_type": "code",
          "output_collection_id": "5e12f9ab-8f32-4868-9042-d07384ab95d0"
        },
        "tags": [
          "show_line_numbers"
        ],
        "ExecuteTime": {
          "end_time": "2023-08-07T07:28:41.795461+00:00",
          "start_time": "2023-08-07T07:28:41.178821+00:00"
        }
      },
      "id": "38078140-c6a7-4d69-b433-8c6bab4b8a4b"
    },
    {
      "cell_type": "markdown",
      "source": [
        "### Compute Allocations by Organization Country\n",
        "We will visualize the CPU and GPU compute allocations across different countries. This will provide insights into the distribution of resources among various countries."
      ],
      "metadata": {
        "noteable": {
          "cell_type": "markdown"
        },
        "tags": [
          "show_line_numbers"
        ]
      },
      "id": "c3715cd9-2955-4bac-93a5-e4a59d5e40f1"
    },
    {
      "cell_type": "code",
      "source": [
        "# Plotting CPU and GPU compute allocations by organization country\n",
        "plt.figure(figsize=(14, 6))\n",
        "sns.barplot(x='Organization Country', y='CPU Compute Allocation', data=data, ci=None, color='blue', alpha=0.6, label='CPU Allocation')\n",
        "sns.barplot(x='Organization Country', y='GPU Compute Allocation', data=data, ci=None, color='green', alpha=0.6, label='GPU Allocation')\n",
        "plt.title('Compute Allocations by Organization Country')\n",
        "plt.xlabel('Organization Country')\n",
        "plt.ylabel('Compute Allocation')\n",
        "plt.legend()\n",
        "plt.xticks(rotation=90)\n",
        "plt.show()"
      ],
      "outputs": [],
      "execution_count": null,
      "metadata": {
        "noteable": {
          "cell_type": "code",
          "output_collection_id": "dc1ee2bc-ffa2-48a4-863c-1e82dd0418d0"
        },
        "tags": [
          "show_line_numbers"
        ],
        "ExecuteTime": {
          "end_time": "2023-08-07T07:28:50.883369+00:00",
          "start_time": "2023-08-07T07:28:49.805736+00:00"
        }
      },
      "id": "3f80ffb7-3c88-41f1-8a52-dd9d4e1f49b8"
    },
    {
      "cell_type": "markdown",
      "source": [
        "### Relationship Between Compute Allocations and Node Hours Charged\n",
        "We will explore the relationship between compute allocations (both CPU and GPU) and the corresponding node hours charged. This analysis will help us understand how the allocated resources are being utilized."
      ],
      "metadata": {
        "noteable": {
          "cell_type": "markdown"
        },
        "tags": [
          "show_line_numbers"
        ]
      },
      "id": "d4f3af00-73a1-4afa-906b-dce174043ba5"
    },
    {
      "cell_type": "code",
      "source": [
        "# Plotting the relationship between CPU Compute Allocation and CPU Node Hours Charged\n",
        "plt.figure(figsize=(10, 6))\n",
        "sns.scatterplot(x='CPU Compute Allocation', y='CPU Node Hours Charged', data=data, hue='Organization Type')\n",
        "plt.title('Relationship Between CPU Compute Allocation and CPU Node Hours Charged')\n",
        "plt.xlabel('CPU Compute Allocation')\n",
        "plt.ylabel('CPU Node Hours Charged')\n",
        "plt.legend(title='Organization Type')\n",
        "plt.show()\n",
        "\n",
        "# Plotting the relationship between GPU Compute Allocation and GPU Node Hours Charged\n",
        "plt.figure(figsize=(10, 6))\n",
        "sns.scatterplot(x='GPU Compute Allocation', y='GPU Node Hours Charged', data=data, hue='Organization Type')\n",
        "plt.title('Relationship Between GPU Compute Allocation and GPU Node Hours Charged')\n",
        "plt.xlabel('GPU Compute Allocation')\n",
        "plt.ylabel('GPU Node Hours Charged')\n",
        "plt.legend(title='Organization Type')\n",
        "plt.show()"
      ],
      "outputs": [],
      "execution_count": null,
      "metadata": {
        "noteable": {
          "cell_type": "code"
        },
        "tags": [
          "show_line_numbers"
        ]
      },
      "id": "b5a6e382-abfd-489f-a688-846ed1604401"
    },
    {
      "cell_type": "markdown",
      "source": [
        "### Analysis of Active Users\n",
        "We will analyze the active users in the dataset, focusing on their compute allocations and node hours charged. Understanding the behavior of active users can provide insights into resource utilization and efficiency."
      ],
      "metadata": {
        "noteable": {
          "cell_type": "markdown"
        },
        "tags": [
          "show_line_numbers"
        ]
      },
      "id": "09aa1d6a-f092-4dc7-82d9-0518ed893da8"
    },
    {
      "cell_type": "code",
      "source": [
        "# Filtering active users\n",
        "active_users = data[data['Is Active'] == 'True']\n",
        "\n",
        "# Plotting CPU and GPU compute allocations for active users\n",
        "plt.figure(figsize=(14, 6))\n",
        "sns.barplot(x='Organization Type', y='CPU Compute Allocation', data=active_users, ci=None, color='blue', alpha=0.6, label='CPU Allocation')\n",
        "sns.barplot(x='Organization Type', y='GPU Compute Allocation', data=active_users, ci=None, color='green', alpha=0.6, label='GPU Allocation')\n",
        "plt.title('Compute Allocations for Active Users by Organization Type')\n",
        "plt.xlabel('Organization Type')\n",
        "plt.ylabel('Compute Allocation')\n",
        "plt.legend()\n",
        "plt.xticks(rotation=45)\n",
        "plt.show()"
      ],
      "outputs": [],
      "execution_count": null,
      "metadata": {
        "noteable": {
          "cell_type": "code"
        },
        "tags": [
          "show_line_numbers"
        ]
      },
      "id": "cb881d60-4fa8-4045-a2ab-2f344d318430"
    },
    {
      "cell_type": "markdown",
      "source": [
        "### Analysis of Top Projects and Departments\n",
        "We will analyze the top projects and departments in terms of compute allocations and node hours charged. Understanding the leading projects and departments can provide insights into the main areas of focus and resource consumption."
      ],
      "metadata": {
        "noteable": {
          "cell_type": "markdown"
        },
        "tags": [
          "show_line_numbers"
        ]
      },
      "id": "028699ad-24df-4fe9-95e3-42faf92d4f1d"
    },
    {
      "cell_type": "code",
      "source": [
        "# Analyzing top projects by CPU Compute Allocation\n",
        "top_projects_cpu = data.nlargest(10, 'CPU Compute Allocation')[['Project Description', 'CPU Compute Allocation']]\n",
        "plt.figure(figsize=(12, 6))\n",
        "sns.barplot(x='CPU Compute Allocation', y='Project Description', data=top_projects_cpu, palette='viridis')\n",
        "plt.title('Top 10 Projects by CPU Compute Allocation')\n",
        "plt.xlabel('CPU Compute Allocation')\n",
        "plt.ylabel('Project Description')\n",
        "plt.show()\n",
        "\n",
        "# Analyzing top departments by GPU Compute Allocation\n",
        "top_departments_gpu = data.nlargest(10, 'GPU Compute Allocation')[['Department', 'GPU Compute Allocation']]\n",
        "plt.figure(figsize=(12, 6))\n",
        "sns.barplot(x='GPU Compute Allocation', y='Department', data=top_departments_gpu, palette='inferno')\n",
        "plt.title('Top 10 Departments by GPU Compute Allocation')\n",
        "plt.xlabel('GPU Compute Allocation')\n",
        "plt.ylabel('Department')\n",
        "plt.show()"
      ],
      "outputs": [],
      "execution_count": null,
      "metadata": {
        "noteable": {
          "cell_type": "code"
        },
        "tags": [
          "show_line_numbers"
        ]
      },
      "id": "9c679739-938d-4f3d-ba63-2931d1d40532"
    },
    {
      "cell_type": "markdown",
      "source": [
        "### Geographic Distribution of Organizations\n",
        "We will visualize the geographic distribution of organizations based on their city and country. This analysis will provide a spatial understanding of where the organizations in the dataset are located."
      ],
      "metadata": {
        "noteable": {
          "cell_type": "markdown"
        },
        "tags": [
          "show_line_numbers"
        ]
      },
      "id": "e6a33fe6-0276-443f-bf62-ecea1ad0233f"
    },
    {
      "cell_type": "code",
      "source": [
        "# Importing geopy to geocode locations\n",
        "from geopy.geocoders import Nominatim\n",
        "geolocator = Nominatim(user_agent=\"geoapi\")\n",
        "\n",
        "# Function to geocode city and country\n",
        "def geocode_location(row):\n",
        "    location = geolocator.geocode(f\"{row['Organization City']}, {row['Organization Country']}\")\n",
        "    if location:\n",
        "        return location.latitude, location.longitude\n",
        "    return None, None\n",
        "\n",
        "# Applying the geocode function to the data\n",
        "data['Latitude'], data['Longitude'] = zip(*data.apply(geocode_location, axis=1))\n",
        "\n",
        "# Plotting the geographic distribution\n",
        "plt.figure(figsize=(14, 7))\n",
        "plt.scatter(data['Longitude'], data['Latitude'], c=data['CPU Compute Allocation'], cmap='viridis', s=50, alpha=0.6)\n",
        "plt.title('Geographic Distribution of Organizations')\n",
        "plt.xlabel('Longitude')\n",
        "plt.ylabel('Latitude')\n",
        "plt.colorbar(label='CPU Compute Allocation')\n",
        "plt.grid(True)\n",
        "plt.show()"
      ],
      "outputs": [],
      "execution_count": null,
      "metadata": {
        "noteable": {
          "cell_type": "code"
        },
        "tags": [
          "show_line_numbers"
        ]
      },
      "id": "345edcdc-e8d9-4539-bbbc-9e568b5cf976"
    },
    {
      "cell_type": "markdown",
      "source": [
        "### Analysis of GPU Utilization\n",
        "We will analyze the GPU utilization across different organization types and projects. Understanding GPU utilization can provide insights into the computational demands and efficiency of various research and development activities."
      ],
      "metadata": {
        "noteable": {
          "cell_type": "markdown"
        },
        "tags": [
          "show_line_numbers"
        ]
      },
      "id": "88f4375f-b172-4e9a-bb3d-3875eee3184e"
    },
    {
      "cell_type": "code",
      "source": [
        "# Plotting GPU Compute Allocation by Organization Type\n",
        "plt.figure(figsize=(14, 6))\n",
        "sns.barplot(x='Organization Type', y='GPU Compute Allocation', data=data, ci=None, color='purple', alpha=0.6)\n",
        "plt.title('GPU Compute Allocation by Organization Type')\n",
        "plt.xlabel('Organization Type')\n",
        "plt.ylabel('GPU Compute Allocation')\n",
        "plt.xticks(rotation=45)\n",
        "plt.show()\n",
        "\n",
        "# Plotting GPU Node Hours Charged by Organization Type\n",
        "plt.figure(figsize=(14, 6))\n",
        "sns.barplot(x='Organization Type', y='GPU Node Hours Charged', data=data, ci=None, color='orange', alpha=0.6)\n",
        "plt.title('GPU Node Hours Charged by Organization Type')\n",
        "plt.xlabel('Organization Type')\n",
        "plt.ylabel('GPU Node Hours Charged')\n",
        "plt.xticks(rotation=45)\n",
        "plt.show()"
      ],
      "outputs": [],
      "execution_count": null,
      "metadata": {
        "noteable": {
          "cell_type": "code"
        },
        "tags": [
          "show_line_numbers"
        ]
      },
      "id": "e4354fea-9b27-4e8f-a895-161a6352398d"
    },
    {
      "cell_type": "markdown",
      "source": [
        "### Investigating Inactive Users\n",
        "We will investigate the inactive users in the dataset, focusing on their previous compute allocations and node hours charged. Understanding the characteristics of inactive users can provide insights into resource allocation strategies and potential areas for optimization."
      ],
      "metadata": {
        "noteable": {
          "cell_type": "markdown"
        },
        "tags": [
          "show_line_numbers"
        ]
      },
      "id": "52d1f2d8-ac71-46bd-bdf0-c6aa2d5274cd"
    },
    {
      "cell_type": "code",
      "source": [
        "# Filtering inactive users\n",
        "inactive_users = data[data['Is Active'] == 'False']\n",
        "\n",
        "# Plotting CPU and GPU compute allocations for inactive users\n",
        "plt.figure(figsize=(14, 6))\n",
        "sns.barplot(x='Organization Type', y='CPU Compute Allocation', data=inactive_users, ci=None, color='blue', alpha=0.6, label='CPU Allocation')\n",
        "sns.barplot(x='Organization Type', y='GPU Compute Allocation', data=inactive_users, ci=None, color='red', alpha=0.6, label='GPU Allocation')\n",
        "plt.title('Compute Allocations for Inactive Users by Organization Type')\n",
        "plt.xlabel('Organization Type')\n",
        "plt.ylabel('Compute Allocation')\n",
        "plt.legend()\n",
        "plt.xticks(rotation=45)\n",
        "plt.show()"
      ],
      "outputs": [],
      "execution_count": null,
      "metadata": {
        "noteable": {
          "cell_type": "code"
        },
        "tags": [
          "show_line_numbers"
        ]
      },
      "id": "60ef6d79-d45f-48da-b8b6-3c304d0c46bb"
    },
    {
      "id": "a9ace383-5e2a-480b-88b6-25b3723dfb10",
      "cell_type": "markdown",
      "source": "### Exercise: NERSC Usage Analysis\n\nIn this exercise, we will dive deeper into the usage data of NERSC. We will focus on three questions to analyze in order to identify the top users and projects in terms of CPU and GPU usage, and understanding the distribution of users across different organizational roles. This analysis can provide valuable insights into resource utilization and allocation strategies at NERSC.\n\nEach exercise below provides you with an exploratory question.  Develop your code in the cell provided below each question.\n\nPlease note that a solution to these exercises is provided after question 3.",
      "metadata": {
        "noteable": {
          "cell_type": "markdown"
        }
      }
    },
    {
      "id": "15c60b5f-a1dd-4b90-9a34-b11216e2f415",
      "cell_type": "markdown",
      "source": "Top Users: Identify the top 10 users for CPU usage and GPU usage. This will help us understand which users are consuming the most resources.",
      "metadata": {
        "noteable": {
          "cell_type": "markdown"
        }
      }
    },
    {
      "id": "26d44a4b-9c4f-4f3e-b458-37c40cfa1b46",
      "cell_type": "markdown",
      "source": "",
      "metadata": {
        "noteable": {
          "cell_type": "markdown"
        }
      }
    },
    {
      "id": "c6fa6e85-d681-4054-b3c2-36ad74d258a3",
      "cell_type": "markdown",
      "source": "#### Additional NERSC User Analysis Question 2:\n'Top Projects: Find the top 10 projects (in terms of CPU and GPU usage) that have used the most percentage of their allocation hours. This will give us an idea of which projects are utilizing their allocated resources to the fullest.",
      "metadata": {
        "noteable": {
          "cell_type": "markdown"
        }
      }
    },
    {
      "id": "63449077-6de1-4513-abb9-2583b83266b9",
      "cell_type": "markdown",
      "source": "",
      "metadata": {
        "noteable": {
          "cell_type": "markdown"
        }
      }
    },
    {
      "id": "ec207241-c514-485c-ae12-438a3142f528",
      "cell_type": "markdown",
      "source": "#### Additional NERSC User Analysis Question 3\n\nUser Distribution: Plot the user distribution of organization roles using a pie chart. This will help us understand the composition of users in terms of their roles within their organizations.",
      "metadata": {
        "noteable": {
          "cell_type": "markdown"
        }
      }
    },
    {
      "id": "5b2433bf-947f-4f85-a740-bc585c68093b",
      "cell_type": "markdown",
      "source": "",
      "metadata": {
        "noteable": {
          "cell_type": "markdown"
        }
      }
    },
    {
      "id": "1a113961-7894-4612-9cf5-93dc5daf2932",
      "cell_type": "markdown",
      "source": "#### Additional NERSC User Analysis Questions Solution Set\n\n1)\n\n##### Top 10 users for CPU usage\ntop_cpu_users = data.sort_values('CPU Usage', ascending=False).head(10)\n\n##### Top 10 users for GPU usage\ntop_gpu_users = data.sort_values('GPU Usage', ascending=False).head(10)\n\n2\n##### Calculate percentage of allocation hours used for each project\ndata['CPU Allocation Percentage'] = data['CPU Usage'] / data['CPU Allocation Hours']\ndata['GPU Allocation Percentage'] = data['GPU Usage'] / data['GPU Allocation Hours']\n\n##### Top 10 projects for CPU usage\ntop_cpu_projects = data.sort_values('CPU Allocation Percentage', ascending=False).head(10)\n\n##### Top 10 projects for GPU usage\ntop_gpu_projects = data.sort_values('GPU Allocation Percentage', ascending=False).head(10)\n\n\n3\n\n#### Plot user distribution by organization role\nrole_distribution = data['Organization Role'].value_counts()\nplt.figure(figsize=(10, 8))\nplt.pie(role_distribution, labels=role_distribution.index, autopct='%1.1f%%')\nplt.title('User Distribution by Organization Role')\nplt.show()\n",
      "metadata": {
        "noteable": {
          "cell_type": "markdown"
        }
      }
    },
    {
      "cell_type": "markdown",
      "source": [
        "### Summary and Recommendations\n",
        "Based on the analysis conducted, we can summarize key findings and provide recommendations for optimizing resource allocations, enhancing efficiency, and supporting various research and development activities."
      ],
      "metadata": {
        "noteable": {
          "cell_type": "markdown"
        },
        "tags": [
          "show_line_numbers"
        ]
      },
      "id": "59ee2713-3038-47b8-9930-0a6b9e3f6609"
    },
    {
      "cell_type": "markdown",
      "source": [
        "#### Key Findings\n",
        "- **Active Users:** The analysis of active users showed variations in compute allocations across different organization types. Understanding the behavior of active users provided insights into resource utilization and efficiency.\n",
        "- **Top Projects and Departments:** The leading projects and departments were identified based on compute allocations, highlighting the main areas of focus and resource consumption.\n",
        "- **Geographic Distribution:** The spatial distribution of organizations provided an understanding of where the organizations are located, with variations in CPU compute allocation.\n",
        "- **GPU Utilization:** GPU utilization across different organization types was analyzed, revealing insights into computational demands and efficiency.\n",
        "- **Inactive Users:** Investigating inactive users and their previous compute allocations provided insights into resource allocation strategies and potential areas for optimization.\n",
        "\n",
        "#### Recommendations\n",
        "- **Optimize Resource Allocation:** Regularly review and reallocate resources based on user activity and project requirements to ensure efficient utilization.\n",
        "- **Support Key Projects and Departments:** Allocate additional resources to top-performing projects and departments to foster innovation and research.\n",
        "- **Enhance GPU Utilization:** Evaluate GPU demands and allocate resources accordingly to support computationally intensive tasks.\n",
        "- **Monitor Inactive Users:** Implement monitoring and notification mechanisms to identify inactive users and reallocate resources as needed.\n",
        "- **Consider Geographic Distribution:** Take into account the geographic distribution of organizations when planning infrastructure and support services."
      ],
      "metadata": {
        "noteable": {
          "cell_type": "markdown"
        },
        "tags": [
          "show_line_numbers"
        ]
      },
      "id": "e54fa8dd-6d48-4b36-a804-fab60e24096c"
    }
  ],
  "metadata": {
    "noteable-chatgpt": {
      "create_notebook": {
        "openai_conversation_id": "6ce67e85-e7c5-52cd-b6b8-0ce7582c15bc",
        "openai_ephemeral_user_id": "dbfcc28d-4fe1-5308-a9a4-2e3a2f9f7dcc",
        "openai_subdivision1_iso_code": "US-GA"
      }
    },
    "kernel_info": {
      "name": "python3"
    },
    "noteable": {
      "last_transaction_id": "33892bb1-916d-4462-8b23-cbc972c9b3eb",
      "last_delta_id": "3914b7a6-f657-4ee6-a932-3d8af3f8c204"
    },
    "kernelspec": {
      "display_name": "Python 3.9",
      "language": "python",
      "name": "python3"
    },
    "selected_hardware_size": "small",
    "nteract": {
      "version": "noteable@2.9.0"
    }
  },
  "nbformat": 4,
  "nbformat_minor": 5
}