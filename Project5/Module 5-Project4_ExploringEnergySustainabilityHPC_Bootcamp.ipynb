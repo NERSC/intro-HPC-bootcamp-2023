{
  "cells": [
    {
      "cell_type": "markdown",
      "source": [
        "# Module 5: Project 4 - Exploring Energy Sustainability in High-Performance Computing (HPC)\n",
        "\n",
        "## Project Overview\n",
        "High-performance computing (HPC) has led to significant scientific advances across various fields. HPC allows researchers to simulate complex phenomena and systems that were previously impossible to study due to their size, complexity, or time scales. For example, HPC has been used in climate modeling to predict future climate patterns and understand the impacts of climate change. HPC has also been instrumental in drug discovery, where researchers can simulate the interactions between molecules and predict their efficacy and potential side effects, thus accelerating the drug development process. HPC has also played a crucial role in astrophysics, enabling the simulation of galaxy formations and the study of the origins of the universe.\n",
        "\n",
        "However, the power consumption and cooling requirements of HPC systems pose significant challenges. HPC systems are typically power-hungry and generate large amounts of heat. The energy consumption and associated costs for operating these systems are substantial. Cooling the systems is also a major concern, as excessive heat can damage the equipment and affect their performance. To address these issues, significant efforts have been made to develop more energy-efficient architectures and cooling technologies for HPC systems.\n",
        "\n",
        "This project aims to delve into the intersection of social justice, energy, and power sustainability by exploring the significance of energy-efficient computing. Participants will work to understand the relationship between the location of Green500 and Top500 HPC systems and climate change indicators and low-income energy affordability data, seeking to answer the question: are HPC systems well placed for energy sustainability?\n",
        "\n",
        "## Goal of Module 5\n",
        "In this module, you will work on a project that explores the relationship between the location of Green500 and Top500 HPC systems, climate change indicators, and low-income energy affordability data. The goal is to answer the question: are HPC systems well placed for energy sustainability? This project will help you understand the significance of energy-efficient computing and its intersection with social justice and power sustainability."
      ],
      "metadata": {
        "noteable": {
          "cell_type": "markdown"
        }
      },
      "id": "bcc0010e-6b95-4db5-8c37-68d6ac190dae"
    },
    {
      "cell_type": "markdown",
      "source": [
        "## Section 1: Geographical Distribution and Correlation with Climate Change Indicators\n",
        "\n",
        "In this section, you want to consider appropriat factors related to geographical conditions and locations.  Specifcally, explore the geographical distribution of the Green500 and Top500 HPC systems and their correlation with climate change indicators.\n",
        "\n",
        "![HPC Systems](https://example.com/hpc_systems.jpg)\n",
        "\n",
        "### Research Questions\n",
        "\n",
        "1. What is the geographical distribution of the Green500 and Top500 HPC systems? Are there regions that have a higher concentration of these systems?\n",
        "2. How do the locations of these HPC systems correlate with climate change indicators such as temperature and precipitation patterns?\n",
        "\n",
        "### Recommended Readings\n",
        "\n",
        "1. [High Performance Computing for Climate Model](https://www.journal1.com)\n",
        "2. [Impact of HPC Systems on Climate Change](https://www.journal2.com)\n",
        "3. [Geographical Distribution of HPC Systems](https://www.journal3.com)"
      ],
      "metadata": {
        "noteable": {
          "cell_type": "markdown"
        }
      },
      "id": "943b77a6-7411-4c77-9445-4a5bbd82bcc1"
    },
    {
      "cell_type": "markdown",
      "source": [
        "## Section 2: Correlation with Low-Income Energy Affordability Data and Energy Efficiency Trends\n",
        "\n",
        "In this section, we will explore how the locations of these HPC systems correlate with low-income energy affordability data and the trend in their energy efficiency.\n",
        "\n",
        "![Energy Efficiency](https://example.com/energy_efficiency.jpg)\n",
        "\n",
        "### Research Questions to Consider\n",
        "\n",
        "3. How do the locations of these HPC systems correlate with low-income energy affordability data? Are these systems located in regions where energy is less affordable?\n",
        "\n",
        "4. What is the trend in energy efficiency of the Green500 and Top500 HPC systems over the years? Is there a significant improvement in energy efficiency?\n",
        "\n",
        "### Recommended Readings\n",
        "\n",
        "1. [Energy Efficiency in HPC Systems](https://www.journal4.com)\n",
        "2. [HPC Systems and Energy Affordability](https://www.journal5.com)\n",
        "3. [Trends in HPC Energy Efficiency](https://www.journal6.com)"
      ],
      "metadata": {
        "noteable": {
          "cell_type": "markdown"
        }
      },
      "id": "53faa205-50ca-47b7-8be0-43648fe892e9"
    },
    {
      "cell_type": "markdown",
      "source": [
        "## Section 3: Social Justice Implications and Strategies for Improving Energy Sustainability\n",
        "\n",
        "In this section, we will explore the social justice implications of the energy consumption of these HPC systems and potential strategies for improving their energy sustainability.\n",
        "\n",
        "![Social Justice](https://example.com/social_justice.jpg)\n",
        "\n",
        "### Research Questions to Consider\n",
        "\n",
        "5. What are the social justice implications of the energy consumption of these HPC systems? Are they contributing to energy inequality?\n",
        "\n",
        "6. What are the potential impacts of these HPC systems on local and global climate patterns?\n",
        "\n",
        "7. What strategies can be implemented to improve the energy sustainability of these HPC systems?\n",
        "\n",
        "### Recommended Readings\n",
        "\n",
        "1. [Social Justice and Energy Consumption](https://www.journal7.com)\n",
        "2. [HPC Systems and Climate Patterns](https://www.journal8.com)\n",
        "3. [Strategies for Improving HPC Energy Sustainability](https://www.journal9.com)"
      ],
      "metadata": {
        "noteable": {
          "cell_type": "markdown"
        }
      },
      "id": "971f188d-3497-4d5a-a93e-a6ec6b6944b8"
    }
  ],
  "metadata": {
    "noteable-chatgpt": {
      "create_notebook": {
        "openai_conversation_id": "e26a1ec2-0cd5-5395-a8fc-68dcf8294ee0",
        "openai_ephemeral_user_id": "27b37775-cc2a-5458-bffc-e8b390507295",
        "openai_subdivision1_iso_code": "US-CA"
      }
    },
    "kernel_info": {
      "name": "python3"
    },
    "noteable": {
      "last_transaction_id": "3b0a4007-5065-438d-b999-90766d918d13",
      "last_delta_id": "c3181c78-1e31-44b2-9449-791874ba52c3"
    },
    "kernelspec": {
      "name": "python3",
      "display_name": "Python 3.9",
      "language": "python"
    },
    "selected_hardware_size": "small",
    "nteract": {
      "version": "noteable@2.9.0"
    }
  },
  "nbformat": 4,
  "nbformat_minor": 5
}