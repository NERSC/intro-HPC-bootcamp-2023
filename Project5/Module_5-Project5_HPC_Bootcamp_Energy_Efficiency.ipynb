{
  "cells": [
    {
      "cell_type": "markdown",
      "source": [
        "# Module 5-Project 5: Optimizing Energy Consumption in High-Performance Computing (HPC)\n",
        "\n",
        "## Project Overview\n",
        "High-performance computing (HPC) systems require massive amounts of power, and inefficient code can lead to excessive energy usage. By improving code efficiency, less energy is required to perform computations, leading to reduced environmental impact and lower energy costs. HPC systems consume substantial resources, including electricity and cooling infrastructure. These resources are not evenly distributed globally, and their availability can be limited in certain regions. Just as large scale computing systems can be used more efficiently with optimized code, efficiency practices can improve power consumption for all parts of our power infrastructure. This approach promotes a more sustainable use of computing resources, aligning with the principles of energy justice and reducing the environmental impact of HPC systems.\n",
        "\n",
        "In this project, participants will learn how to optimize energy consumption in computing systems. Participants will delve into programming languages, specifically Python, to optimize code for parallel processing, enabling efficient utilization of system resources. Additionally, participants will explore energy efficiency in our power infrastructure and how it is measured and improved.\n",
        "\n",
        "## Goal of Module 5\n",
        "In this module, you will work on a project that explores how to optimize energy consumption in computing systems. You will delve into programming languages, specifically Python, to optimize code for parallel processing, enabling efficient utilization of system resources. Additionally, you will explore energy efficiency in our power infrastructure and how it is measured and improved. This project will help you understand the significance of energy-efficient computing and its intersection with social justice and power sustainability."
      ],
      "metadata": {
        "noteable": {
          "cell_type": "markdown"
        }
      },
      "id": "37042c2b-0569-40be-a652-b4d9746f3ee4"
    },
    {
      "cell_type": "markdown",
      "source": [
        "# Group Project Assignment: Energy Optimization Strategies for TechVille HPC's Emerging Technology Division\n",
        "\n",
        "---\n",
        "\n",
        "**Objective**:  \n",
        "TechVille HPC's Emerging Technology Division is at the forefront of innovation in the HPC domain. Your team's challenge is to delve deep into cutting-edge energy optimization strategies, both in software and hardware, that can be researched and potentially adopted by this division. The goal is to ensure that TechVille HPC not only remains a leader in computational capabilities but also pioneers sustainable and energy-efficient solutions in the HPC landscape.\n",
        "\n",
        "---\n",
        "\n",
        "**Guiding Instructions**:\n",
        "\n",
        "### **Section 1: Software-Based Code Optimization for Energy Efficiency**\n",
        "\n",
        "1. **Understanding Code Efficiency**:\n",
        "   - Analyze the implications of inefficient code on operational costs and environmental impact in HPC systems.\n",
        "   - Discuss the significance of code efficiency in HPC and its role in promoting energy justice.\n",
        "\n",
        "2. **Strategies for Code Efficiency**:\n",
        "   - Explore methods to improve code efficiency to reduce energy consumption in HPC systems.\n",
        "   - Implement and test various optimization strategies to improve code efficiency and measure the energy savings achieved.\n",
        "\n",
        "### **Section 2: Hardware-Based Energy Efficiency in Power Infrastructure**\n",
        "\n",
        "3. **Measuring Energy Efficiency**:\n",
        "   - Understand how energy efficiency is measured in power infrastructure for HPC systems.\n",
        "   - Analyze the distribution of resources globally and the challenges faced in certain regions.\n",
        "\n",
        "4. **Strategies for Infrastructure Efficiency**:\n",
        "   - Identify strategies to improve energy efficiency in power infrastructure for HPC systems.\n",
        "   - Discuss the implications of these strategies on energy justice and the broader HPC landscape.\n",
        "\n",
        "### **Section 3: Social Justice Implications and Strategies for Improving Energy Sustainability**\n",
        "\n",
        "5. **Understanding Social Justice Implications**:\n",
        "   - Analyze the social justice implications of the energy consumption of HPC systems.\n",
        "   - Discuss the potential impacts of HPC systems on climate patterns and their role in promoting or hindering energy justice.\n",
        "\n",
        "6. **Recommendations for Energy Sustainability**:\n",
        "   - Based on your analyses, recommend strategies to improve the energy sustainability of HPC systems.\n",
        "   - Discuss both software and hardware solutions that align with the principles of energy justice and the goals of TechVille HPC's Emerging Technology Division.\n",
        "\n",
        "Embrace this challenge to shape the future of HPC in a sustainable and just manner. Best of luck!"
      ],
      "metadata": {
        "noteable": {
          "cell_type": "markdown"
        }
      },
      "id": "8f412a31-ebc9-4378-8f24-5ad6ba7aab5f"
    },
    {
      "cell_type": "markdown",
      "source": [
        "## Section 1: Code Optimization for Energy Efficiency\n",
        "\n",
        "In this section, we will focus on how to optimize code for parallel processing, enabling efficient utilization of system resources. The importance of this topic lies in the fact that inefficient code can lead to excessive energy usage in HPC systems. This not only increases the operational costs but also contributes to the environmental impact of these systems.\n",
        "\n",
        "By improving code efficiency, we can significantly reduce the energy consumption of these systems. This is crucial in promoting a more sustainable use of computing resources and aligning with the principles of energy justice.\n",
        "\n",
        "Moreover, writing efficient code for parallel processing is a key skill in the field of HPC. It allows us to make the most out of the available system resources and achieve higher performance. Therefore, understanding the best practices for writing efficient code is essential for anyone working with HPC systems.\n",
        "\n",
        "![Code Optimization](https://example.com/code_optimization.jpg)\n",
        "\n",
        "### Research Questions\n",
        "\n",
        "1. How does inefficient code lead to excessive energy usage in HPC systems?\n",
        "2. How can we improve code efficiency to reduce energy consumption?\n",
        "3. What are some of the best practices for writing efficient code for parallel processing?\n",
        "\n",
        "### Recommended Readings\n",
        "\n",
        "\n",
        "1. **Tipu, A. J. S., Ó Conbhuí, P., & Howley, E.** (2022). [Artificial neural networks based predictions towards the auto-tuning and optimization of parallel IO bandwidth in HPC system](https://dx.doi.org/10.1007/s10586-022-03814-w). *Cluster Computing*. [PDF Link](https://link.springer.com/content/pdf/10.1007/s10586-022-03814-w.pdf)\n",
        "   \n",
        " \n",
        "2. **Younesi, S., Ahmadi, B., Ceylan, O., & Ozdemir, A.** (2022). [Optimum Parallel Processing Schemes to Improve the Computation Speed for Renewable Energy Allocation and Sizing Problems](https://dx.doi.org/10.3390/en15249301). *Energies*. [PDF Link](https://www.mdpi.com/1996-1073/15/24/9301/pdf?version=1670493597)\n",
        "   \n",
        "  \n",
        "\n",
        "3. **Wei, L., Ning, Z., Quan, L., Wang, A., & Gao, Y.** (2022). [Research on Parameter Matching of the Asymmetric Pump Potential Energy Recovery System Based on Multi-Core Parallel Optimization Method](https://dx.doi.org/10.3390/pr10112298). *Processes*. [PDF Link](https://www.mdpi.com/2227-9717/10/11/2298/pdf?version=1668420648)\n",
        " "
      ],
      "metadata": {
        "noteable": {
          "cell_type": "markdown"
        }
      },
      "id": "ba85bbf6-58e9-4c7f-aa99-2c66c1ad29cf"
    },
    {
      "cell_type": "markdown",
      "source": [
        "## Section 2: Energy Efficiency in Power Infrastructure\n",
        "\n",
        "In this section, we will explore energy efficiency in our power infrastructure and how it is measured and improved. The importance of this topic lies in the fact that HPC systems consume substantial resources, including electricity and cooling infrastructure. These resources are not evenly distributed globally, and their availability can be limited in certain regions.\n",
        "\n",
        "By understanding how energy efficiency is measured in our power infrastructure, we can identify areas for improvement and implement strategies to increase efficiency. This not only reduces the operational costs but also promotes a more sustainable use of resources.\n",
        "\n",
        "Furthermore, improving energy efficiency in power infrastructure contributes to energy justice by ensuring that these resources are used in a way that is fair and sustainable. Therefore, understanding the strategies for improving energy efficiency is crucial for anyone working with HPC systems.\n",
        "\n",
        "![Power Infrastructure](https://example.com/power_infrastructure.jpg)\n",
        "\n",
        "### Research Questions\n",
        "\n",
        "4. How is energy efficiency measured in our power infrastructure?\n",
        "\n",
        "5. What are some of the strategies for improving energy efficiency in power infrastructure?\n",
        "\n",
        "6. How does improving energy efficiency in power infrastructure contribute to energy justice and reduce the environmental impact of HPC systems?\n",
        "\n",
        "### Recommended Readings\n",
        "\n",
        "1. **Schöne, R., Ilsche, T., Bielert, M., Gocht-Zech, A., & Hackenberg, D.** (2019). [Energy Efficiency Features of the Intel Skylake-SP Processor and Their Impact on Performance](https://dx.doi.org/10.1109/HPCS48598.2019.9188239). *Cluster Computing*. [PDF Link](http://arxiv.org/pdf/1905.12468)\n",
        "   \n",
        "  \n",
        "2. **Sadiq, M., Ali, S. W., Terriche, Y., Mutarraf, M. U., Hassan, M., Hamid, K., Ali, Z., Sze, J., Su, C., & Guerrero, J.** (2021). [Future Greener Seaports: A Review of New Infrastructure, Challenges, and Energy Efficiency Measures](https://dx.doi.org/10.1109/ACCESS.2021.3081430). *IEEE Access*. [PDF Link](https://ieeexplore.ieee.org/ielx7/6287639/9312710/09433559.pdf)\n",
        "   \n",
        " \n",
        "3. **Borghesi, A., Bartolini, A., Milano, M., & Benini, L.** (2018). [Pricing schemes for energy-efficient HPC systems: Design and exploration](https://dx.doi.org/10.1177/1094342018814593). *The International Journal of High Performance Computing Applications*. [PDF Link](https://arxiv.org/pdf/1806.05135)\n",
        "   \n",
        "These articles provide insights into various aspects of energy efficiency in power infrastructure for HPC systems, including strategies for improving energy efficiency, the impact of energy efficiency features on performance, and the economic viability of performance scaling solutions."
      ],
      "metadata": {
        "noteable": {
          "cell_type": "markdown"
        }
      },
      "id": "3080ce2c-f38f-4a6c-b075-8335f510c73b"
    },
    {
      "cell_type": "markdown",
      "source": [
        "## Section 3: Social Justice Implications and Strategies for Improving Energy Sustainability\n",
        "\n",
        "In this section, we will delve into the social justice implications of the energy consumption of HPC systems and potential strategies for improving their energy sustainability. The importance of this topic lies in the fact that the energy consumption of these systems can contribute to energy inequality, particularly in regions where resources are limited.\n",
        "\n",
        "By understanding the social justice implications of the energy consumption of these systems, we can identify ways to promote energy justice and reduce the environmental impact of these systems. This is crucial in promoting a more sustainable use of computing resources and aligning with the principles of energy justice.\n",
        "\n",
        "Furthermore, by exploring potential strategies for improving the energy sustainability of these systems, we can contribute to the development of more sustainable HPC systems. Therefore, understanding these strategies is essential for anyone working with HPC systems.\n",
        "\n",
        "![Social Justice](https://example.com/social_justice.jpg)\n",
        "\n",
        "### Research Questions\n",
        "\n",
        "7. What are the social justice implications of the energy consumption of these HPC systems? Are they contributing to energy inequality?\n",
        "\n",
        "8. What are the potential impacts of these HPC systems on local and global climate patterns?\n",
        "\n",
        "9. What strategies can be implemented to improve the energy sustainability of these HPC systems?\n",
        "\n",
        "### Recommended Readings\n",
        "\n",
        "\n",
        "1. **Givens, J. E., Padowski, J., Guzman, C., Malek, K., Witinok-Huber, R., Cosens, B., Briscoe, M. D., Boll, J., & Adam, J.** (2018). [Incorporating Social System Dynamics in the Columbia River Basin: Food-Energy-Water Resilience and Sustainability Modeling in the Yakima River Basin](https://dx.doi.org/10.3389/fenvs.2018.00104). *Frontiers in Environmental Science*. [PDF Link](https://www.frontiersin.org/articles/10.3389/fenvs.2018.00104/pdf)\n",
        "   \n",
        " \n",
        "\n",
        "2. **Romero‑Lankao, P., & Gnatz, D. M.** (2019). [Risk Inequality and the Food-Energy-Water (FEW) Nexus: A Study of 43 City Adaptation Plans](https://dx.doi.org/10.3389/fsoc.2019.00031). *Frontiers in Sociology*. [PDF Link](https://www.frontiersin.org/articles/10.3389/fsoc.2019.00031/pdf)\n",
        "   \n",
        "  \n",
        "\n",
        "3. **Axon, S., & Morrissey, J.** (2020). [Just energy transitions? Social inequities, vulnerabilities and unintended consequences](https://dx.doi.org/10.5334/bc.14). *Buildings and Cities*. [PDF Link](http://journal-buildingscities.org/articles/10.5334/bc.14/galley/46/download/)\n",
        " \n",
        "\n",
        "These articles provide insights into various aspects of social justice implications and strategies for improving energy sustainability in HPC systems, including the impacts of energy consumption on social dynamics, the role of cities in addressing these challenges, and the unintended consequences of energy transitions."
      ],
      "metadata": {
        "noteable": {
          "cell_type": "markdown"
        }
      },
      "id": "b5511f4e-2bdb-4e6c-8f1a-80a590dd5ab3"
    }
  ],
  "metadata": {
    "noteable-chatgpt": {
      "create_notebook": {
        "openai_conversation_id": "e26a1ec2-0cd5-5395-a8fc-68dcf8294ee0",
        "openai_ephemeral_user_id": "5bc786dc-c4af-5148-b072-20997175a463",
        "openai_subdivision1_iso_code": "US-CA"
      }
    },
    "kernel_info": {
      "name": "python3"
    },
    "noteable": {
      "last_transaction_id": "959e300e-5863-49dd-8f0f-6299b8e79d8c",
      "last_delta_id": "959e300e-5863-49dd-8f0f-6299b8e79d8c"
    },
    "kernelspec": {
      "display_name": "Python 3.9",
      "language": "python",
      "name": "python3"
    },
    "selected_hardware_size": "small",
    "nteract": {
      "version": "noteable@2.9.0"
    }
  },
  "nbformat": 4,
  "nbformat_minor": 5
}